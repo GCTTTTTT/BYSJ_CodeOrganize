{
 "cells": [
  {
   "cell_type": "code",
   "execution_count": 6,
   "id": "47895223-a252-48b8-b051-9c008133ac85",
   "metadata": {
    "tags": []
   },
   "outputs": [],
   "source": [
    "from rediscluster import RedisCluster\n",
    "import mysql.connector\n",
    "from datetime import datetime, timedelta\n",
    "import json\n",
    "\n",
    "# 定义Redis集群的节点信息\n",
    "startup_nodes = [\n",
    "    {\"host\": \"120.25.223.26\", \"port\": \"6380\"},\n",
    "    {\"host\": \"120.25.223.26\", \"port\": \"6381\"},\n",
    "    {\"host\": \"120.25.223.26\", \"port\": \"6382\"},\n",
    "    {\"host\": \"120.25.223.26\", \"port\": \"6383\"},\n",
    "    {\"host\": \"120.25.223.26\", \"port\": \"6384\"},\n",
    "    {\"host\": \"120.25.223.26\", \"port\": \"6385\"}\n",
    "]\n",
    "\n",
    "# 连接到Redis集群\n",
    "rc = RedisCluster(startup_nodes=startup_nodes, decode_responses=True)\n",
    "\n"
   ]
  },
  {
   "cell_type": "code",
   "execution_count": 7,
   "id": "544c5250-c7f6-4921-b84a-3bf65029b951",
   "metadata": {
    "tags": []
   },
   "outputs": [
    {
     "name": "stdout",
     "output_type": "stream",
     "text": [
      "2024-01-01\n",
      "2024-01-02\n",
      "2024-01-03\n",
      "2024-01-04\n",
      "2024-01-05\n",
      "2024-01-06\n",
      "2024-01-07\n",
      "2024-01-08\n",
      "2024-01-09\n",
      "2024-01-10\n",
      "2024-01-11\n",
      "2024-01-12\n",
      "2024-01-13\n",
      "2024-01-14\n",
      "2024-01-15\n",
      "2024-01-16\n",
      "2024-01-17\n",
      "2024-01-18\n",
      "2024-01-19\n",
      "2024-01-20\n",
      "2024-01-21\n",
      "2024-01-22\n",
      "2024-01-23\n",
      "2024-01-24\n",
      "2024-01-25\n",
      "2024-01-26\n",
      "2024-01-27\n",
      "2024-01-28\n",
      "2024-01-29\n",
      "2024-01-30\n",
      "2024-01-31\n",
      "2024-02-01\n",
      "2024-02-02\n",
      "2024-02-03\n",
      "2024-02-04\n",
      "2024-02-05\n",
      "2024-02-06\n",
      "2024-02-07\n",
      "2024-02-08\n",
      "2024-02-09\n",
      "2024-02-10\n",
      "2024-02-11\n",
      "2024-02-12\n",
      "2024-02-13\n",
      "2024-02-14\n",
      "2024-02-15\n",
      "2024-02-16\n",
      "2024-02-17\n"
     ]
    },
    {
     "ename": "ClusterDownError",
     "evalue": "CLUSTERDOWN error. Unable to rebuild the cluster",
     "output_type": "error",
     "traceback": [
      "\u001b[0;31m---------------------------------------------------------------------------\u001b[0m",
      "\u001b[0;31mClusterDownError\u001b[0m                          Traceback (most recent call last)",
      "Cell \u001b[0;32mIn[7], line 27\u001b[0m\n\u001b[1;32m     24\u001b[0m     news_data \u001b[38;5;241m=\u001b[39m cursor\u001b[38;5;241m.\u001b[39mfetchall()\n\u001b[1;32m     26\u001b[0m     \u001b[38;5;66;03m# 将新闻数据转换为JSON格式并存入Redis集群,以日期作为键\u001b[39;00m\n\u001b[0;32m---> 27\u001b[0m     \u001b[43mrc\u001b[49m\u001b[38;5;241;43m.\u001b[39;49m\u001b[43mset\u001b[49m\u001b[43m(\u001b[49m\u001b[43mdate_sel\u001b[49m\u001b[43m,\u001b[49m\u001b[43m \u001b[49m\u001b[43mjson\u001b[49m\u001b[38;5;241;43m.\u001b[39;49m\u001b[43mdumps\u001b[49m\u001b[43m(\u001b[49m\u001b[43mnews_data\u001b[49m\u001b[43m,\u001b[49m\u001b[43m \u001b[49m\u001b[43mdefault\u001b[49m\u001b[38;5;241;43m=\u001b[39;49m\u001b[38;5;28;43mstr\u001b[39;49m\u001b[43m)\u001b[49m\u001b[43m)\u001b[49m\n\u001b[1;32m     29\u001b[0m     current_date \u001b[38;5;241m+\u001b[39m\u001b[38;5;241m=\u001b[39m timedelta(days\u001b[38;5;241m=\u001b[39m\u001b[38;5;241m1\u001b[39m)\n\u001b[1;32m     30\u001b[0m \u001b[38;5;28mprint\u001b[39m(\u001b[38;5;124m\"\u001b[39m\u001b[38;5;124mFINISH\u001b[39m\u001b[38;5;124m\"\u001b[39m)\n",
      "File \u001b[0;32m/opt/conda/envs/default/lib/python3.8/site-packages/redis/client.py:1801\u001b[0m, in \u001b[0;36mRedis.set\u001b[0;34m(self, name, value, ex, px, nx, xx, keepttl)\u001b[0m\n\u001b[1;32m   1798\u001b[0m \u001b[38;5;28;01mif\u001b[39;00m keepttl:\n\u001b[1;32m   1799\u001b[0m     pieces\u001b[38;5;241m.\u001b[39mappend(\u001b[38;5;124m'\u001b[39m\u001b[38;5;124mKEEPTTL\u001b[39m\u001b[38;5;124m'\u001b[39m)\n\u001b[0;32m-> 1801\u001b[0m \u001b[38;5;28;01mreturn\u001b[39;00m \u001b[38;5;28;43mself\u001b[39;49m\u001b[38;5;241;43m.\u001b[39;49m\u001b[43mexecute_command\u001b[49m\u001b[43m(\u001b[49m\u001b[38;5;124;43m'\u001b[39;49m\u001b[38;5;124;43mSET\u001b[39;49m\u001b[38;5;124;43m'\u001b[39;49m\u001b[43m,\u001b[49m\u001b[43m \u001b[49m\u001b[38;5;241;43m*\u001b[39;49m\u001b[43mpieces\u001b[49m\u001b[43m)\u001b[49m\n",
      "File \u001b[0;32m/opt/conda/envs/default/lib/python3.8/site-packages/rediscluster/client.py:562\u001b[0m, in \u001b[0;36mRedisCluster.execute_command\u001b[0;34m(self, *args, **kwargs)\u001b[0m\n\u001b[1;32m    559\u001b[0m         \u001b[38;5;28;01mpass\u001b[39;00m\n\u001b[1;32m    561\u001b[0m \u001b[38;5;66;03m# If it fails the configured number of times then raise exception back to caller of this method\u001b[39;00m\n\u001b[0;32m--> 562\u001b[0m \u001b[38;5;28;01mraise\u001b[39;00m ClusterDownError(\u001b[38;5;124m\"\u001b[39m\u001b[38;5;124mCLUSTERDOWN error. Unable to rebuild the cluster\u001b[39m\u001b[38;5;124m\"\u001b[39m)\n",
      "\u001b[0;31mClusterDownError\u001b[0m: CLUSTERDOWN error. Unable to rebuild the cluster"
     ]
    }
   ],
   "source": [
    "# 连接到MySQL数据库\n",
    "# cnx = mysql.connector.connect(user='your_username', password='your_password',\n",
    "#                               host='your_host', database='your_database')\n",
    "cnx = mysql.connector.connect(\n",
    "          host=\"172.16.234.200\",\n",
    "          user=\"dg_news\",\n",
    "          password=\"dg_news\",\n",
    "          database=\"dg_crawler\"\n",
    "        )\n",
    "cursor = cnx.cursor()\n",
    "\n",
    "# 定义日期范围\n",
    "start_date = datetime(2024, 2, 18)\n",
    "end_date = datetime(2024, 3, 31)\n",
    "\n",
    "current_date = start_date\n",
    "while current_date <= end_date:\n",
    "    date_sel = current_date.strftime(\"%Y-%m-%d\")\n",
    "    print(date_sel)\n",
    "    \n",
    "    # 执行SQL查询,获取当日的新闻数据\n",
    "    query = f\"SELECT * FROM news WHERE pub_time='{date_sel}' AND news.language_id=1779\"\n",
    "    cursor.execute(query)\n",
    "    news_data = cursor.fetchall()\n",
    "    \n",
    "    # 将新闻数据转换为JSON格式并存入Redis集群,以日期作为键\n",
    "    rc.set(date_sel, json.dumps(news_data, default=str))\n",
    "    \n",
    "    current_date += timedelta(days=1)\n",
    "print(\"FINISH\")\n",
    "# 关闭MySQL连接\n",
    "cursor.close()\n",
    "cnx.close()\n",
    "\n"
   ]
  },
  {
   "cell_type": "code",
   "execution_count": null,
   "id": "f2c204ef-71ca-4520-a05e-fa487ef678e5",
   "metadata": {
    "tags": []
   },
   "outputs": [],
   "source": [
    "# 从Redis集群中按日期提取新闻数据\n",
    "extract_date = \"2024-01-01\"\n",
    "\n",
    "# 从Redis集群中获取指定日期的新闻数据\n",
    "news_data = rc.get(extract_date)\n",
    "\n",
    "if news_data is not None:\n",
    "    # 将JSON格式的新闻数据转换回原始格式\n",
    "    news_data = json.loads(news_data)\n",
    "    print(f\"News data for {extract_date}:\")\n",
    "    print(news_data)\n",
    "else:\n",
    "    print(f\"No news data found for {extract_date}\")"
   ]
  },
  {
   "cell_type": "code",
   "execution_count": null,
   "id": "66a0570c-dd29-4e54-8068-2160297c0b4d",
   "metadata": {},
   "outputs": [],
   "source": []
  }
 ],
 "metadata": {
  "kernelspec": {
   "display_name": "conda-default",
   "language": "python",
   "name": "conda-default"
  },
  "language_info": {
   "codemirror_mode": {
    "name": "ipython",
    "version": 3
   },
   "file_extension": ".py",
   "mimetype": "text/x-python",
   "name": "python",
   "nbconvert_exporter": "python",
   "pygments_lexer": "ipython3",
   "version": "3.8.16"
  }
 },
 "nbformat": 4,
 "nbformat_minor": 5
}
