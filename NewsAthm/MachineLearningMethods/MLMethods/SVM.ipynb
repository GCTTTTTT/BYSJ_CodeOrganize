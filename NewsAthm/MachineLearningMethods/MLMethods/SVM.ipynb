{
 "cells": [
  {
   "cell_type": "code",
   "execution_count": 1,
   "id": "3d9df9c1-7759-4867-9fa0-7c273eefb044",
   "metadata": {},
   "outputs": [
    {
     "name": "stderr",
     "output_type": "stream",
     "text": [
      "/opt/conda/envs/default/lib/python3.8/site-packages/tqdm/auto.py:21: TqdmWarning: IProgress not found. Please update jupyter and ipywidgets. See https://ipywidgets.readthedocs.io/en/stable/user_install.html\n",
      "  from .autonotebook import tqdm as notebook_tqdm\n"
     ]
    },
    {
     "name": "stdout",
     "output_type": "stream",
     "text": [
      "Support Vector Machine Classifier:\n",
      "              precision    recall  f1-score   support\n",
      "\n",
      "    অন্যান্য       1.00      0.39      0.56        18\n",
      "    অর্থনীতি       0.55      0.21      0.30        29\n",
      "         আইন       0.35      0.22      0.27        27\n",
      "    খেলাধুলা       0.87      0.87      0.87        23\n",
      "     বিজ্ঞান       0.00      0.00      0.00        24\n",
      "      বিনোদন       0.88      0.33      0.48        21\n",
      "     রাজনীতি       0.28      0.92      0.43        25\n",
      "  লাইফস্টাইল       0.31      0.65      0.42        17\n",
      "      শিক্ষা       0.25      0.25      0.25        16\n",
      "\n",
      "    accuracy                           0.42       200\n",
      "   macro avg       0.50      0.43      0.40       200\n",
      "weighted avg       0.49      0.42      0.39       200\n",
      "\n"
     ]
    },
    {
     "name": "stderr",
     "output_type": "stream",
     "text": [
      "/opt/conda/envs/default/lib/python3.8/site-packages/sklearn/metrics/_classification.py:1471: UndefinedMetricWarning: Precision and F-score are ill-defined and being set to 0.0 in labels with no predicted samples. Use `zero_division` parameter to control this behavior.\n",
      "  _warn_prf(average, modifier, msg_start, len(result))\n",
      "/opt/conda/envs/default/lib/python3.8/site-packages/sklearn/metrics/_classification.py:1471: UndefinedMetricWarning: Precision and F-score are ill-defined and being set to 0.0 in labels with no predicted samples. Use `zero_division` parameter to control this behavior.\n",
      "  _warn_prf(average, modifier, msg_start, len(result))\n",
      "/opt/conda/envs/default/lib/python3.8/site-packages/sklearn/metrics/_classification.py:1471: UndefinedMetricWarning: Precision and F-score are ill-defined and being set to 0.0 in labels with no predicted samples. Use `zero_division` parameter to control this behavior.\n",
      "  _warn_prf(average, modifier, msg_start, len(result))\n"
     ]
    }
   ],
   "source": [
    "# DONE\n",
    "import pandas as pd\n",
    "from sklearn.linear_model import LogisticRegression\n",
    "from sklearn.model_selection import train_test_split\n",
    "from sklearn.metrics import classification_report\n",
    "import torch\n",
    "from transformers import BertTokenizer, BertModel\n",
    "import numpy as np\n",
    "from sklearn.svm import SVC\n",
    "\n",
    "\n",
    "\n"
   ]
  },
  {
   "cell_type": "code",
   "execution_count": null,
   "id": "3b857203-5b2e-4c83-ad8d-9c53f299c5f9",
   "metadata": {},
   "outputs": [],
   "source": [
    "# 加载数据\n",
    "file_path = '../datasets_FIX2/FIX2_deduplicated_mangoNews_Nums3000p_CategoryMerge_new_undersampled_Example.csv'\n",
    "\n",
    "data = pd.read_csv(file_path,low_memory=False,lineterminator=\"\\n\")\n",
    "\n",
    "# 加载BERT tokenizer和模型\n",
    "model_name = '../bert-base-multilingual-cased'\n",
    "tokenizer = BertTokenizer.from_pretrained(model_name)\n",
    "model = BertModel.from_pretrained(model_name)"
   ]
  },
  {
   "cell_type": "code",
   "execution_count": null,
   "id": "3de92eef-3d26-42f6-bad3-a3d174237cd5",
   "metadata": {},
   "outputs": [],
   "source": [
    "nan_check = data['body'].isna().sum()\n",
    "nan_check_c = data['category1'].isna().sum()\n",
    "print(nan_check)\n",
    "print(nan_check_c)\n",
    "\n",
    "data = data.dropna(subset=['category1','body'])\n",
    "nan_check = data['body'].isna().sum()\n",
    "nan_check_c = data['category1'].isna().sum()\n",
    "print(nan_check)\n",
    "print(nan_check_c)"
   ]
  },
  {
   "cell_type": "code",
   "execution_count": null,
   "id": "98fc594e-4133-4481-8730-4eb7122b3724",
   "metadata": {},
   "outputs": [],
   "source": [
    "# 将模型移动到GPU(如果可用)\n",
    "device = torch.device('cuda' if torch.cuda.is_available() else 'cpu')\n",
    "model.to(device)\n",
    "\n",
    "# 使用BERT模型对新闻正文进行向量化\n",
    "def vectorize_text(texts, batch_size=32):\n",
    "    embeddings = []\n",
    "    for i in range(0, len(texts), batch_size):\n",
    "        batch = texts[i:i+batch_size]\n",
    "        inputs = tokenizer(batch, padding=True, truncation=True, max_length=512, return_tensors='pt')\n",
    "        inputs = {k: v.to(device) for k, v in inputs.items()}\n",
    "        with torch.no_grad():\n",
    "            outputs = model(**inputs)\n",
    "        batch_embeddings = outputs.last_hidden_state[:, 0, :].cpu().numpy()\n",
    "        embeddings.append(batch_embeddings)\n",
    "    embeddings = np.concatenate(embeddings, axis=0)\n",
    "    return embeddings\n",
    "\n",
    "# 对新闻正文进行向量化\n",
    "X = vectorize_text(data['body'].tolist())\n",
    "\n",
    "# 将孟加拉语类别转换为数字标签\n",
    "label_map = {label: i for i, label in enumerate(data['category1'].unique())}\n",
    "y = data['category1'].map(label_map).tolist()\n",
    "\n",
    "# 将数据划分为训练集和测试集\n",
    "X_train, X_test, y_train, y_test = train_test_split(X, y, test_size=0.2, random_state=42)\n",
    "\n",
    "# 创建支持向量机分类器\n",
    "svm_classifier = SVC()\n",
    "\n",
    "# 训练支持向量机分类器\n",
    "svm_classifier.fit(X_train, y_train)\n",
    "\n",
    "# 在测试集上进行预测\n",
    "y_pred = svm_classifier.predict(X_test)\n",
    "\n",
    "# 将数字标签转换回孟加拉语类别\n",
    "label_map_inv = {i: label for label, i in label_map.items()}\n",
    "y_test = [label_map_inv[i] for i in y_test]\n",
    "y_pred = [label_map_inv[i] for i in y_pred]\n",
    "\n",
    "# 评估模型性能\n",
    "print(\"Support Vector Machine Classifier:\")\n",
    "print(classification_report(y_test, y_pred))"
   ]
  }
 ],
 "metadata": {
  "kernelspec": {
   "display_name": "conda-default",
   "language": "python",
   "name": "conda-default"
  },
  "language_info": {
   "codemirror_mode": {
    "name": "ipython",
    "version": 3
   },
   "file_extension": ".py",
   "mimetype": "text/x-python",
   "name": "python",
   "nbconvert_exporter": "python",
   "pygments_lexer": "ipython3",
   "version": "3.8.16"
  }
 },
 "nbformat": 4,
 "nbformat_minor": 5
}
