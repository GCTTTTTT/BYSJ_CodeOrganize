{
 "cells": [
  {
   "cell_type": "code",
   "execution_count": 1,
   "id": "8fb7c009-e9ec-4af5-83f0-30cd1b958141",
   "metadata": {},
   "outputs": [
    {
     "name": "stderr",
     "output_type": "stream",
     "text": [
      "/opt/conda/envs/default/lib/python3.8/site-packages/tqdm/auto.py:21: TqdmWarning: IProgress not found. Please update jupyter and ipywidgets. See https://ipywidgets.readthedocs.io/en/stable/user_install.html\n",
      "  from .autonotebook import tqdm as notebook_tqdm\n"
     ]
    }
   ],
   "source": [
    "import pandas as pd\n",
    "import numpy as np\n",
    "from sklearn.model_selection import train_test_split\n",
    "from sklearn.neighbors import KNeighborsClassifier\n",
    "from sklearn.metrics import classification_report\n",
    "import torch\n",
    "from transformers import BertTokenizer, BertModel\n"
   ]
  },
  {
   "cell_type": "code",
   "execution_count": 2,
   "id": "f0fbd84c-fc7f-4345-9765-916e17f83d1c",
   "metadata": {},
   "outputs": [],
   "source": [
    "# 加载数据\n",
    "# file_path = '../../datasets_FIX2/FIX2_deduplicated_mangoNews_Nums3000p_CategoryMerge_new_undersampled_Example.csv'\n",
    "file_path = '../../datasets_FIX2/FIX2_deduplicated_mangoNews_Nums3000p_CategoryMerge_new_undersampled.csv'\n",
    "\n",
    "data = pd.read_csv(file_path,low_memory=False,lineterminator=\"\\n\")\n",
    "\n",
    "\n",
    "# 加载微调好的BERT模型和tokenizer\n",
    "model_name = '../../bert-base-multilingual-cased'\n",
    "tokenizer = BertTokenizer.from_pretrained(model_name)\n",
    "bert_model = BertModel.from_pretrained(model_name)\n"
   ]
  },
  {
   "cell_type": "code",
   "execution_count": 3,
   "id": "3c474b82-5fee-4c68-962b-6e2dc45808ba",
   "metadata": {},
   "outputs": [
    {
     "name": "stdout",
     "output_type": "stream",
     "text": [
      "16\n",
      "0\n",
      "0\n",
      "0\n"
     ]
    }
   ],
   "source": [
    "nan_check = data['body'].isna().sum()\n",
    "nan_check_c = data['category1'].isna().sum()\n",
    "print(nan_check)\n",
    "print(nan_check_c)\n",
    "\n",
    "data = data.dropna(subset=['category1','body'])\n",
    "nan_check = data['body'].isna().sum()\n",
    "nan_check_c = data['category1'].isna().sum()\n",
    "print(nan_check)\n",
    "print(nan_check_c)"
   ]
  },
  {
   "cell_type": "code",
   "execution_count": 4,
   "id": "a31b4300-737b-42ec-8f22-d823f174c92c",
   "metadata": {},
   "outputs": [],
   "source": [
    "\n",
    "# 将模型移动到GPU(如果可用)\n",
    "device = torch.device('cuda' if torch.cuda.is_available() else 'cpu')\n",
    "bert_model.to(device)\n",
    "\n",
    "# # 使用BERT模型对新闻正文进行向量化\n",
    "# def vectorize_text(text):\n",
    "#     inputs = tokenizer(text, padding=True, truncation=True, max_length=512, return_tensors='pt')\n",
    "#     inputs = {k: v.to(device) for k, v in inputs.items()}\n",
    "#     with torch.no_grad():\n",
    "#         outputs = bert_model(**inputs)\n",
    "#     embeddings = outputs.last_hidden_state[:, 0, :].cpu().numpy()\n",
    "#     return embeddings\n",
    "# 使用BERT模型对新闻正文进行向量化\n",
    "def vectorize_text(texts, batch_size=32):\n",
    "    embeddings = []\n",
    "    for i in range(0, len(texts), batch_size):\n",
    "        batch = texts[i:i+batch_size]\n",
    "        inputs = tokenizer(batch, padding=True, truncation=True, max_length=512, return_tensors='pt')\n",
    "        inputs = {k: v.to(device) for k, v in inputs.items()}\n",
    "        with torch.no_grad():\n",
    "            outputs = bert_model(**inputs)\n",
    "        batch_embeddings = outputs.last_hidden_state[:, 0, :].cpu().numpy()\n",
    "        embeddings.append(batch_embeddings)\n",
    "    embeddings = np.concatenate(embeddings, axis=0)\n",
    "    return embeddings\n"
   ]
  },
  {
   "cell_type": "code",
   "execution_count": null,
   "id": "e967bb49-3121-4b14-b5ff-a6eba75b0bbb",
   "metadata": {},
   "outputs": [],
   "source": [
    "\n",
    "# # 对新闻正文进行向量化\n",
    "# X = data['body'].apply(vectorize_text).tolist()\n",
    "# 对新闻正文进行向量化\n",
    "X = np.array([embeddings[0] for embeddings in data['body'].apply(vectorize_text)])\n",
    "print(\"1\")\n",
    "label_map = {label: i for i, label in enumerate(data['category1'].unique())}\n",
    "y = data['category1'].map(label_map).tolist()\n",
    "print(\"2\")\n",
    "# 将数据划分为训练集和测试集\n",
    "X_train, X_test, y_train, y_test = train_test_split(X, y, test_size=0.2, random_state=42)\n"
   ]
  },
  {
   "cell_type": "code",
   "execution_count": 15,
   "id": "e00f1607-887d-425d-9b7e-114b3ab1f72e",
   "metadata": {},
   "outputs": [
    {
     "name": "stdout",
     "output_type": "stream",
     "text": [
      "              precision    recall  f1-score   support\n",
      "\n",
      "           0       0.40      0.74      0.52        27\n",
      "           1       0.68      0.60      0.64        25\n",
      "           2       0.54      0.39      0.45        18\n",
      "           3       0.26      0.71      0.37        17\n",
      "           4       0.54      0.33      0.41        21\n",
      "           5       0.54      0.30      0.39        23\n",
      "           6       0.35      0.28      0.31        29\n",
      "           7       0.70      0.29      0.41        24\n",
      "           8       0.44      0.25      0.32        16\n",
      "\n",
      "    accuracy                           0.43       200\n",
      "   macro avg       0.49      0.43      0.42       200\n",
      "weighted avg       0.50      0.43      0.43       200\n",
      "\n"
     ]
    }
   ],
   "source": [
    "\n",
    "# 创建K近邻分类器\n",
    "knn_classifier = KNeighborsClassifier(n_neighbors=33)\n",
    "\n",
    "# 训练K近邻分类器\n",
    "knn_classifier.fit(X_train, y_train)\n",
    "\n",
    "# 在测试集上进行预测\n",
    "y_pred = knn_classifier.predict(X_test)\n",
    "\n",
    "# 评估模型性能\n",
    "print(classification_report(y_test, y_pred))"
   ]
  },
  {
   "cell_type": "code",
   "execution_count": null,
   "id": "8e96bc8b-196b-474f-b37b-068c4fe3d3d3",
   "metadata": {},
   "outputs": [],
   "source": []
  }
 ],
 "metadata": {
  "kernelspec": {
   "display_name": "conda-default",
   "language": "python",
   "name": "conda-default"
  },
  "language_info": {
   "codemirror_mode": {
    "name": "ipython",
    "version": 3
   },
   "file_extension": ".py",
   "mimetype": "text/x-python",
   "name": "python",
   "nbconvert_exporter": "python",
   "pygments_lexer": "ipython3",
   "version": "3.8.16"
  }
 },
 "nbformat": 4,
 "nbformat_minor": 5
}
