{
 "cells": [
  {
   "cell_type": "code",
   "execution_count": 20,
   "id": "a9a3ff66-c2b6-49f2-8746-8104290b89b4",
   "metadata": {},
   "outputs": [],
   "source": [
    "# DONE\n",
    "import pandas as pd\n",
    "from sklearn.ensemble import RandomForestClassifier\n",
    "from sklearn.model_selection import train_test_split\n",
    "from sklearn.metrics import classification_report\n",
    "import torch\n",
    "from transformers import BertTokenizer, BertModel\n",
    "from transformers import BertTokenizer, BertForSequenceClassification\n",
    "import numpy as np\n"
   ]
  },
  {
   "cell_type": "code",
   "execution_count": 21,
   "id": "92d118a1-236b-422e-925b-f82e6bba7810",
   "metadata": {},
   "outputs": [],
   "source": [
    "\n",
    "# 加载数据\n",
    "# data = pd.read_csv('../datasets_FIX2/FIX2_deduplicated_mangoNews_Nums3000p_CategoryMerge_new_undersampled.csv')\n",
    "file_path = '../datasets_FIX2/FIX2_deduplicated_mangoNews_Nums3000p_CategoryMerge_new_undersampled_Example.csv'\n",
    "\n",
    "data = pd.read_csv(file_path,low_memory=False,lineterminator=\"\\n\")\n",
    "\n"
   ]
  },
  {
   "cell_type": "code",
   "execution_count": null,
   "id": "68611e5e-1886-4a3c-8ae3-7cc4d5cefda1",
   "metadata": {},
   "outputs": [],
   "source": [
    "nan_check = data['body'].isna().sum()\n",
    "nan_check_c = data['category1'].isna().sum()\n",
    "print(nan_check)\n",
    "print(nan_check_c)\n",
    "\n",
    "data = data.dropna(subset=['category1','body'])\n",
    "nan_check = data['body'].isna().sum()\n",
    "nan_check_c = data['category1'].isna().sum()\n",
    "print(nan_check)\n",
    "print(nan_check_c)"
   ]
  },
  {
   "cell_type": "code",
   "execution_count": 22,
   "id": "afe93ce1-5031-4012-ad2b-116540fa00e3",
   "metadata": {},
   "outputs": [],
   "source": [
    "# # 加载BERT tokenizer\n",
    "# model_path = '../bert-base-multilingual-cased'\n",
    "# tokenizer = BertTokenizer.from_pretrained(model_path)\n",
    "\n",
    "# # 加载微调后的BERT模型\n",
    "# model = BertModel.from_pretrained(model_path)\n",
    "# model.load_state_dict(torch.load('../models_FIX2/bert-base-multilingual-cased_classification_undersampled_new_epoch_20.pth'))\n",
    "\n",
    "model_path = '../bert-base-multilingual-cased'\n",
    "# modelNew_load_path = '../models_FIX2/bert-base-multilingual-cased_classification_undersampled_new_epoch_20.pth'\n",
    "\n",
    "tokenizer = BertTokenizer.from_pretrained(model_path)\n",
    "model = BertModel.from_pretrained(model_path)\n",
    "\n",
    "# model = BertForSequenceClassification.from_pretrained(model_path, num_labels=9)\n",
    "\n",
    "# model.load_state_dict(torch.load(modelNew_load_path))\n",
    "\n"
   ]
  },
  {
   "cell_type": "code",
   "execution_count": 23,
   "id": "d5eb0333-9981-4b1b-83c5-8ef1c7a176cf",
   "metadata": {},
   "outputs": [
    {
     "data": {
      "text/plain": [
       "0      ডিএমপিনিউজঃ ঢাকা মেট্রোপলিটন পুলিশের (ডিএমপি) ...\n",
       "1      গোয়েন্দা পুলিশ (ডিবি) পরিচয়ে যুবককে তুলে নিয়ে ...\n",
       "2      দুর্নীতি মামলায় দণ্ডিত হয়ে এক বছর ধরে কারাগারে...\n",
       "3      জনসম্পৃক্তমূলক কর্মসূচি নিয়ে এবার মাঠে নামছে ব...\n",
       "4      বিশিষ্ট অর্থনীতিবিদ ড. সেলিম জাহান কানাডা ও যু...\n",
       "                             ...                        \n",
       "995    রাজধানীতে একটি রুম থেকে কিশোরীসহ দুইজনের মরদেহ...\n",
       "996    করোনা নামক বিশ্ব মহামারি এর হাত থেকে মানুষের জ...\n",
       "997    পেটের অতিরিক্ত চর্বি বা ফ্যাটি লিভার স্বাস্থ্য...\n",
       "998    বিএনপি মহাসচিব মির্জা ফখরুল ইসলাম আলমগীর বলেছে...\n",
       "999    বাংলাদেশ প্রকৌশল বিশ্ববিদ্যালয় (বুয়েট)-এর দ্বি...\n",
       "Name: body, Length: 1000, dtype: object"
      ]
     },
     "execution_count": 23,
     "metadata": {},
     "output_type": "execute_result"
    }
   ],
   "source": [
    "# 将模型移动到GPU(如果可用)\n",
    "device = torch.device('cuda' if torch.cuda.is_available() else 'cpu')\n",
    "model.to(device)\n",
    "\n",
    "# # 使用BERT分类模型对新闻正文进行向量化\n",
    "# def vectorize_text(texts):\n",
    "#     inputs = tokenizer(texts, padding=True, truncation=True, max_length=512, return_tensors='pt')\n",
    "#     # inputs = {k: v.to(device) for k, v in inputs.items()}\n",
    "#     inputs = {k: v for k, v in inputs.items()}\n",
    "\n",
    "#     with torch.no_grad():\n",
    "#         outputs = model(**inputs)\n",
    "#     embeddings = outputs.logits.cpu().numpy()\n",
    "#     return embeddings\n",
    "# 使用BERT模型对新闻正文进行向量化\n",
    "# 使用BERT模型对新闻正文进行向量化\n",
    "def vectorize_text(texts, batch_size=32):\n",
    "    embeddings = []\n",
    "    for i in range(0, len(texts), batch_size):\n",
    "        batch = texts[i:i+batch_size]\n",
    "        inputs = tokenizer(batch, padding=True, truncation=True, max_length=512, return_tensors='pt')\n",
    "        inputs = {k: v.to(device) for k, v in inputs.items()}\n",
    "        with torch.no_grad():\n",
    "            outputs = model(**inputs)\n",
    "        batch_embeddings = outputs.last_hidden_state[:, 0, :].cpu().numpy()\n",
    "        embeddings.append(batch_embeddings)\n",
    "    embeddings = np.concatenate(embeddings, axis=0)\n",
    "    return embeddings\n",
    "data['body']\n"
   ]
  },
  {
   "cell_type": "code",
   "execution_count": 24,
   "id": "d3a416b7-6022-4f89-af88-b7f56fd40a06",
   "metadata": {},
   "outputs": [],
   "source": [
    "# 对新闻正文进行向量化\n",
    "X = vectorize_text(data['body'].tolist())\n",
    "\n",
    "# 将孟加拉语类别转换为数字标签\n",
    "label_map = {label: i for i, label in enumerate(data['category1'].unique())}\n",
    "y = data['category1'].map(label_map).tolist()\n"
   ]
  },
  {
   "cell_type": "code",
   "execution_count": 25,
   "id": "3d0b491c-e0a8-4cbb-b03b-e1924ffd665f",
   "metadata": {},
   "outputs": [
    {
     "data": {
      "text/plain": [
       "(1000, 768)"
      ]
     },
     "execution_count": 25,
     "metadata": {},
     "output_type": "execute_result"
    }
   ],
   "source": [
    "# type(X)\n",
    "X.shape"
   ]
  },
  {
   "cell_type": "code",
   "execution_count": 26,
   "id": "38224739-e3cd-4fb2-a645-03f7fb7739ee",
   "metadata": {},
   "outputs": [
    {
     "name": "stdout",
     "output_type": "stream",
     "text": [
      "              precision    recall  f1-score   support\n",
      "\n",
      "    অন্যান্য       0.86      0.67      0.75        18\n",
      "    অর্থনীতি       0.46      0.45      0.46        29\n",
      "         আইন       0.58      0.67      0.62        27\n",
      "    খেলাধুলা       0.81      0.91      0.86        23\n",
      "     বিজ্ঞান       0.79      0.62      0.70        24\n",
      "      বিনোদন       0.84      0.76      0.80        21\n",
      "     রাজনীতি       0.67      0.72      0.69        25\n",
      "  লাইফস্টাইল       0.79      0.65      0.71        17\n",
      "      শিক্ষা       0.41      0.56      0.47        16\n",
      "\n",
      "    accuracy                           0.67       200\n",
      "   macro avg       0.69      0.67      0.67       200\n",
      "weighted avg       0.68      0.67      0.67       200\n",
      "\n"
     ]
    }
   ],
   "source": [
    "\n",
    "# 将数据划分为训练集和测试集\n",
    "X_train, X_test, y_train, y_test = train_test_split(X, y, test_size=0.2, random_state=42)\n",
    "\n",
    "# 创建随机森林分类器\n",
    "rf_classifier = RandomForestClassifier(n_estimators=100, random_state=42)\n",
    "\n",
    "# 训练随机森林分类器\n",
    "rf_classifier.fit(X_train, y_train)\n",
    "\n",
    "# 在测试集上进行预测\n",
    "y_pred = rf_classifier.predict(X_test)\n",
    "\n",
    "# 将数字标签转换回孟加拉语类别\n",
    "label_map_inv = {i: label for label, i in label_map.items()}\n",
    "y_test = [label_map_inv[i] for i in y_test]\n",
    "y_pred = [label_map_inv[i] for i in y_pred]\n",
    "\n",
    "# 评估模型性能\n",
    "print(classification_report(y_test, y_pred))"
   ]
  },
  {
   "cell_type": "code",
   "execution_count": null,
   "id": "abd338f2-161d-4e6d-8e4e-2fb852de971b",
   "metadata": {},
   "outputs": [],
   "source": []
  }
 ],
 "metadata": {
  "kernelspec": {
   "display_name": "conda-default",
   "language": "python",
   "name": "conda-default"
  },
  "language_info": {
   "codemirror_mode": {
    "name": "ipython",
    "version": 3
   },
   "file_extension": ".py",
   "mimetype": "text/x-python",
   "name": "python",
   "nbconvert_exporter": "python",
   "pygments_lexer": "ipython3",
   "version": "3.8.16"
  }
 },
 "nbformat": 4,
 "nbformat_minor": 5
}
