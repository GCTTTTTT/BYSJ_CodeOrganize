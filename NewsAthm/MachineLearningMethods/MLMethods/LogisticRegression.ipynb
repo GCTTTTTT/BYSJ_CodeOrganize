{
 "cells": [
  {
   "cell_type": "code",
   "execution_count": 2,
   "id": "42ed4531-342b-4076-a6a4-c0bdbb1bc57d",
   "metadata": {},
   "outputs": [
    {
     "name": "stdout",
     "output_type": "stream",
     "text": [
      "Logistic Regression Classifier:\n",
      "              precision    recall  f1-score   support\n",
      "\n",
      "    অন্যান্য       0.79      0.83      0.81        18\n",
      "    অর্থনীতি       0.62      0.52      0.57        29\n",
      "         আইন       0.70      0.78      0.74        27\n",
      "    খেলাধুলা       0.88      0.91      0.89        23\n",
      "     বিজ্ঞান       0.80      0.83      0.82        24\n",
      "      বিনোদন       0.76      0.76      0.76        21\n",
      "     রাজনীতি       0.75      0.84      0.79        25\n",
      "  লাইফস্টাইল       0.83      0.59      0.69        17\n",
      "      শিক্ষা       0.47      0.50      0.48        16\n",
      "\n",
      "    accuracy                           0.73       200\n",
      "   macro avg       0.73      0.73      0.73       200\n",
      "weighted avg       0.74      0.73      0.73       200\n",
      "\n"
     ]
    }
   ],
   "source": [
    "# DONE\n",
    "import pandas as pd\n",
    "from sklearn.linear_model import LogisticRegression\n",
    "from sklearn.model_selection import train_test_split\n",
    "from sklearn.metrics import classification_report\n",
    "import torch\n",
    "from transformers import BertTokenizer, BertModel\n",
    "import numpy as np\n"
   ]
  },
  {
   "cell_type": "code",
   "execution_count": null,
   "id": "8aee05bc-2efe-45ec-a5ee-e81dd67665e8",
   "metadata": {},
   "outputs": [],
   "source": [
    "\n",
    "# 加载数据\n",
    "file_path = '../datasets_FIX2/FIX2_deduplicated_mangoNews_Nums3000p_CategoryMerge_new_undersampled_Example.csv'\n",
    "\n",
    "data = pd.read_csv(file_path,low_memory=False,lineterminator=\"\\n\")\n",
    "\n",
    "# 加载BERT tokenizer和模型\n",
    "model_name = '../bert-base-multilingual-cased'\n",
    "tokenizer = BertTokenizer.from_pretrained(model_name)\n",
    "model = BertModel.from_pretrained(model_name)\n"
   ]
  },
  {
   "cell_type": "code",
   "execution_count": null,
   "id": "9eed403b-2aa4-4859-bbc6-d031763742e9",
   "metadata": {},
   "outputs": [],
   "source": [
    "nan_check = data['body'].isna().sum()\n",
    "nan_check_c = data['category1'].isna().sum()\n",
    "print(nan_check)\n",
    "print(nan_check_c)\n",
    "\n",
    "data = data.dropna(subset=['category1','body'])\n",
    "nan_check = data['body'].isna().sum()\n",
    "nan_check_c = data['category1'].isna().sum()\n",
    "print(nan_check)\n",
    "print(nan_check_c)"
   ]
  },
  {
   "cell_type": "code",
   "execution_count": null,
   "id": "a8755fc0-2ce7-4854-83f3-4a27162e4360",
   "metadata": {},
   "outputs": [],
   "source": [
    "\n",
    "# 将模型移动到GPU(如果可用)\n",
    "device = torch.device('cuda' if torch.cuda.is_available() else 'cpu')\n",
    "model.to(device)\n",
    "\n",
    "# 使用BERT模型对新闻正文进行向量化\n",
    "def vectorize_text(texts, batch_size=32):\n",
    "    embeddings = []\n",
    "    for i in range(0, len(texts), batch_size):\n",
    "        batch = texts[i:i+batch_size]\n",
    "        inputs = tokenizer(batch, padding=True, truncation=True, max_length=512, return_tensors='pt')\n",
    "        inputs = {k: v.to(device) for k, v in inputs.items()}\n",
    "        with torch.no_grad():\n",
    "            outputs = model(**inputs)\n",
    "        batch_embeddings = outputs.last_hidden_state[:, 0, :].cpu().numpy()\n",
    "        embeddings.append(batch_embeddings)\n",
    "    embeddings = np.concatenate(embeddings, axis=0)\n",
    "    return embeddings\n",
    "\n",
    "# 对新闻正文进行向量化\n",
    "X = vectorize_text(data['body'].tolist())\n",
    "\n",
    "# 将孟加拉语类别转换为数字标签\n",
    "label_map = {label: i for i, label in enumerate(data['category1'].unique())}\n",
    "y = data['category1'].map(label_map).tolist()\n",
    "\n",
    "# 将数据划分为训练集和测试集\n",
    "X_train, X_test, y_train, y_test = train_test_split(X, y, test_size=0.2, random_state=42)\n",
    "\n",
    "# 创建逻辑回归分类器\n",
    "lr_classifier = LogisticRegression(max_iter=1000)\n",
    "\n",
    "# 训练逻辑回归分类器\n",
    "lr_classifier.fit(X_train, y_train)\n",
    "\n",
    "# 在测试集上进行预测\n",
    "y_pred = lr_classifier.predict(X_test)\n",
    "\n",
    "# 将数字标签转换回孟加拉语类别\n",
    "label_map_inv = {i: label for label, i in label_map.items()}\n",
    "y_test = [label_map_inv[i] for i in y_test]\n",
    "y_pred = [label_map_inv[i] for i in y_pred]\n",
    "\n",
    "# 评估模型性能\n",
    "print(\"Logistic Regression Classifier:\")\n",
    "print(classification_report(y_test, y_pred))"
   ]
  }
 ],
 "metadata": {
  "kernelspec": {
   "display_name": "conda-default",
   "language": "python",
   "name": "conda-default"
  },
  "language_info": {
   "codemirror_mode": {
    "name": "ipython",
    "version": 3
   },
   "file_extension": ".py",
   "mimetype": "text/x-python",
   "name": "python",
   "nbconvert_exporter": "python",
   "pygments_lexer": "ipython3",
   "version": "3.8.16"
  }
 },
 "nbformat": 4,
 "nbformat_minor": 5
}
