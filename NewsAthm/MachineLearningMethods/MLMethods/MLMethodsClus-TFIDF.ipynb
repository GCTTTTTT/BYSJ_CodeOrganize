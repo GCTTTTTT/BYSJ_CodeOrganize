{
 "cells": [
  {
   "cell_type": "code",
   "execution_count": 1,
   "id": "3c0f3fd9-efaf-4bd6-a5ea-a0ba696d638e",
   "metadata": {},
   "outputs": [],
   "source": [
    "import pandas as pd\n",
    "from sklearn.model_selection import train_test_split\n",
    "from sklearn.feature_extraction.text import TfidfVectorizer\n",
    "from sklearn.neighbors import KNeighborsClassifier\n",
    "from sklearn.svm import SVC\n",
    "from sklearn.ensemble import RandomForestClassifier\n",
    "from xgboost import XGBClassifier\n",
    "from lightgbm import LGBMClassifier\n",
    "from sklearn.metrics import classification_report\n",
    "\n",
    "\n",
    "# 加载数据\n",
    "file_path = '../../datasets_FIX2/FIX2_deduplicated_mangoNews_Nums3000p_CategoryMerge_new_undersampled.csv'\n",
    "\n",
    "data = pd.read_csv(file_path,low_memory=False,lineterminator=\"\\n\")\n"
   ]
  },
  {
   "cell_type": "code",
   "execution_count": 2,
   "id": "7809808d-e829-4c37-984c-e2a5bd7caec1",
   "metadata": {},
   "outputs": [
    {
     "name": "stdout",
     "output_type": "stream",
     "text": [
      "16\n",
      "0\n",
      "0\n",
      "0\n"
     ]
    }
   ],
   "source": [
    "\n",
    "nan_check = data['body'].isna().sum()\n",
    "nan_check_c = data['category1'].isna().sum()\n",
    "print(nan_check)\n",
    "print(nan_check_c)\n",
    "\n",
    "data = data.dropna(subset=['category1','body'])\n",
    "nan_check = data['body'].isna().sum()\n",
    "nan_check_c = data['category1'].isna().sum()\n",
    "print(nan_check)\n",
    "print(nan_check_c)\n",
    "\n"
   ]
  },
  {
   "cell_type": "code",
   "execution_count": 3,
   "id": "7f3b5489-b8c6-478d-9417-0a688e83334a",
   "metadata": {},
   "outputs": [],
   "source": [
    "# 将孟加拉语类别转换为数字标签\n",
    "label_map = {label: i for i, label in enumerate(data['category1'].unique())}\n",
    "data['label'] = data['category1'].map(label_map)\n",
    "\n",
    "# 划分训练集和测试集\n",
    "X_train, X_test, y_train, y_test = train_test_split(data['body'], data['label'], test_size=0.2, random_state=42)\n",
    "\n",
    "# 使用TF-IDF对文本进行向量化\n",
    "tfidf = TfidfVectorizer()\n",
    "X_train_tfidf = tfidf.fit_transform(X_train)\n",
    "X_test_tfidf = tfidf.transform(X_test)\n",
    "\n"
   ]
  },
  {
   "cell_type": "code",
   "execution_count": 4,
   "id": "c4990c36-f770-48ff-a87b-78b5666cc330",
   "metadata": {},
   "outputs": [
    {
     "name": "stdout",
     "output_type": "stream",
     "text": [
      "KNN Classification Report:\n",
      "              precision    recall  f1-score   support\n",
      "\n",
      "           0       0.94      0.88      0.91      2481\n",
      "           1       0.86      0.86      0.86      2451\n",
      "           2       0.87      0.81      0.84      2473\n",
      "           3       0.84      0.73      0.78      2517\n",
      "           4       0.87      0.88      0.88      2474\n",
      "           5       0.85      0.85      0.85      2476\n",
      "           6       0.66      0.80      0.72      2449\n",
      "           7       0.85      0.75      0.80      2390\n",
      "           8       0.76      0.87      0.81      2387\n",
      "\n",
      "    accuracy                           0.83     22098\n",
      "   macro avg       0.83      0.83      0.83     22098\n",
      "weighted avg       0.83      0.83      0.83     22098\n",
      "\n"
     ]
    }
   ],
   "source": [
    "# KNN模型\n",
    "knn = KNeighborsClassifier(n_neighbors=33)\n",
    "knn.fit(X_train_tfidf, y_train)\n",
    "y_pred_knn = knn.predict(X_test_tfidf)\n",
    "print(\"KNN Classification Report:\")\n",
    "print(classification_report(y_test, y_pred_knn))\n"
   ]
  },
  {
   "cell_type": "code",
   "execution_count": null,
   "id": "861cb5e7-62ab-468b-a5fa-45f4f524ac78",
   "metadata": {},
   "outputs": [],
   "source": [
    "\n",
    "# SVM模型\n",
    "svm = SVC()\n",
    "svm.fit(X_train_tfidf, y_train)\n",
    "y_pred_svm = svm.predict(X_test_tfidf)\n",
    "print(\"SVM Classification Report:\")\n",
    "print(classification_report(y_test, y_pred_svm))\n",
    "\n"
   ]
  },
  {
   "cell_type": "code",
   "execution_count": null,
   "id": "4ab1e1a1-60ba-419a-ab76-15528d947963",
   "metadata": {},
   "outputs": [],
   "source": [
    "# RandomForest模型\n",
    "rf = RandomForestClassifier(n_estimators=100, random_state=42)\n",
    "rf.fit(X_train_tfidf, y_train)\n",
    "y_pred_rf = rf.predict(X_test_tfidf)\n",
    "print(\"RandomForest Classification Report:\")\n",
    "print(classification_report(y_test, y_pred_rf))\n",
    "\n"
   ]
  },
  {
   "cell_type": "code",
   "execution_count": null,
   "id": "9033073c-bfcd-4ec0-9e0d-4926d67d36b5",
   "metadata": {},
   "outputs": [],
   "source": [
    "# XGBOOST模型\n",
    "xgb = XGBClassifier(n_estimators=100, random_state=42)\n",
    "xgb.fit(X_train_tfidf, y_train)\n",
    "y_pred_xgb = xgb.predict(X_test_tfidf)\n",
    "print(\"XGBOOST Classification Report:\")\n",
    "print(classification_report(y_test, y_pred_xgb))\n",
    "\n"
   ]
  },
  {
   "cell_type": "code",
   "execution_count": null,
   "id": "ca565804-9022-4f1b-9489-8b04a9392dc8",
   "metadata": {},
   "outputs": [],
   "source": [
    "# LightGBM模型\n",
    "lgbm = LGBMClassifier(n_estimators=100, random_state=42)\n",
    "lgbm.fit(X_train_tfidf, y_train)\n",
    "y_pred_lgbm = lgbm.predict(X_test_tfidf)\n",
    "print(\"LightGBM Classification Report:\")\n",
    "print(classification_report(y_test, y_pred_lgbm))"
   ]
  }
 ],
 "metadata": {
  "kernelspec": {
   "display_name": "conda-default",
   "language": "python",
   "name": "conda-default"
  },
  "language_info": {
   "codemirror_mode": {
    "name": "ipython",
    "version": 3
   },
   "file_extension": ".py",
   "mimetype": "text/x-python",
   "name": "python",
   "nbconvert_exporter": "python",
   "pygments_lexer": "ipython3",
   "version": "3.8.16"
  }
 },
 "nbformat": 4,
 "nbformat_minor": 5
}
