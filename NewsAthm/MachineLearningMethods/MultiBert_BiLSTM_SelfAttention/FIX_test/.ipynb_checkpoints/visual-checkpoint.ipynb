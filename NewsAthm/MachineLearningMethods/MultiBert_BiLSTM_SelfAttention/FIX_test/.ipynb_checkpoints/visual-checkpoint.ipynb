{
 "cells": [
  {
   "cell_type": "code",
   "execution_count": 4,
   "id": "dded985a-ce76-453b-ba73-b31718bbf510",
   "metadata": {
    "tags": []
   },
   "outputs": [
    {
     "ename": "ModuleNotFoundError",
     "evalue": "No module named 'graphviz'",
     "output_type": "error",
     "traceback": [
      "\u001b[0;31m---------------------------------------------------------------------------\u001b[0m",
      "\u001b[0;31mModuleNotFoundError\u001b[0m                       Traceback (most recent call last)",
      "Cell \u001b[0;32mIn[4], line 3\u001b[0m\n\u001b[1;32m      1\u001b[0m \u001b[38;5;28;01mimport\u001b[39;00m \u001b[38;5;21;01mmatplotlib\u001b[39;00m\u001b[38;5;21;01m.\u001b[39;00m\u001b[38;5;21;01mpyplot\u001b[39;00m \u001b[38;5;28;01mas\u001b[39;00m \u001b[38;5;21;01mplt\u001b[39;00m\n\u001b[1;32m      2\u001b[0m \u001b[38;5;28;01mimport\u001b[39;00m \u001b[38;5;21;01mnetworkx\u001b[39;00m \u001b[38;5;28;01mas\u001b[39;00m \u001b[38;5;21;01mnx\u001b[39;00m\n\u001b[0;32m----> 3\u001b[0m \u001b[38;5;28;01mfrom\u001b[39;00m \u001b[38;5;21;01mgraphviz\u001b[39;00m \u001b[38;5;28;01mimport\u001b[39;00m Digraph\n\u001b[1;32m      5\u001b[0m \u001b[38;5;66;03m# 创建有向图\u001b[39;00m\n\u001b[1;32m      6\u001b[0m dot \u001b[38;5;241m=\u001b[39m Digraph(comment\u001b[38;5;241m=\u001b[39m\u001b[38;5;124m'\u001b[39m\u001b[38;5;124mmBert-Bi-LSTM-Self-Attention Model\u001b[39m\u001b[38;5;124m'\u001b[39m)\n",
      "\u001b[0;31mModuleNotFoundError\u001b[0m: No module named 'graphviz'"
     ]
    }
   ],
   "source": [
    "import matplotlib.pyplot as plt\n",
    "import networkx as nx\n",
    "from graphviz import Digraph\n",
    "\n",
    "# 创建有向图\n",
    "dot = Digraph(comment='mBert-Bi-LSTM-Self-Attention Model')\n",
    "\n",
    "# 添加输入层节点\n",
    "dot.node('input', 'Input Text', shape='rectangle')\n",
    "\n",
    "# 添加BERT编码层节点\n",
    "dot.node('bert', 'BERT Encoder', shape='rectangle')\n",
    "dot.edge('input', 'bert', label='input_ids, attention_mask')\n",
    "\n",
    "# 添加Bi-LSTM层节点\n",
    "dot.node('bilstm', 'Bi-LSTM', shape='rectangle')\n",
    "dot.edge('bert', 'bilstm', label='last_hidden_state')\n",
    "\n",
    "# 添加Self-Attention层节点\n",
    "dot.node('attention', 'Self-Attention', shape='rectangle')\n",
    "dot.edge('bilstm', 'attention', label='lstm_outputs')\n",
    "\n",
    "# 添加输出层节点\n",
    "dot.node('output', 'Output Layer', shape='rectangle')\n",
    "dot.edge('attention', 'output', label='attention_outputs')\n",
    "\n",
    "# 添加分类输出节点\n",
    "dot.node('classification', 'Classification', shape='circle')\n",
    "dot.edge('output', 'classification', label='logits')\n",
    "\n",
    "# 渲染并保存图形\n",
    "dot.render('mBert-Bi-LSTM-Self-Attention', view=True)"
   ]
  },
  {
   "cell_type": "code",
   "execution_count": null,
   "id": "dbd9488b-5803-4dbf-bc01-eae48acb7987",
   "metadata": {},
   "outputs": [],
   "source": []
  }
 ],
 "metadata": {
  "kernelspec": {
   "display_name": "conda-default",
   "language": "python",
   "name": "conda-default"
  },
  "language_info": {
   "codemirror_mode": {
    "name": "ipython",
    "version": 3
   },
   "file_extension": ".py",
   "mimetype": "text/x-python",
   "name": "python",
   "nbconvert_exporter": "python",
   "pygments_lexer": "ipython3",
   "version": "3.8.16"
  }
 },
 "nbformat": 4,
 "nbformat_minor": 5
}
