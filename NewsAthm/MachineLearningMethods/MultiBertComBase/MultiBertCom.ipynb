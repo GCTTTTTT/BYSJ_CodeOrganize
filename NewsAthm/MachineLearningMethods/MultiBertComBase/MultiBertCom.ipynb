{
 "cells": [
  {
   "cell_type": "code",
   "execution_count": 1,
   "id": "aa5a8b78-5c50-425b-b74f-9710382debb0",
   "metadata": {},
   "outputs": [
    {
     "name": "stderr",
     "output_type": "stream",
     "text": [
      "/opt/conda/envs/default/lib/python3.8/site-packages/tqdm/auto.py:21: TqdmWarning: IProgress not found. Please update jupyter and ipywidgets. See https://ipywidgets.readthedocs.io/en/stable/user_install.html\n",
      "  from .autonotebook import tqdm as notebook_tqdm\n"
     ]
    }
   ],
   "source": [
    "import pandas as pd\n",
    "import numpy as np\n",
    "from sklearn.model_selection import KFold\n",
    "from sklearn.metrics import classification_report\n",
    "import torch\n",
    "import torch.nn as nn\n",
    "from torch.utils.data import Dataset, DataLoader\n",
    "from transformers import BertTokenizer, BertForSequenceClassification, AdamW, get_linear_schedule_with_warmup\n",
    "from tqdm import tqdm\n",
    "\n"
   ]
  },
  {
   "cell_type": "code",
   "execution_count": 2,
   "id": "0740d118-db9a-4c75-b437-888ff8aac7c9",
   "metadata": {},
   "outputs": [],
   "source": [
    "# 设置随机种子\n",
    "seed = 42\n",
    "torch.manual_seed(seed)\n",
    "torch.cuda.manual_seed(seed)\n",
    "np.random.seed(seed)\n",
    "\n",
    "# 加载数据\n",
    "file_path = '../datasets_FIX2/FIX2_deduplicated_mangoNews_Nums3000p_CategoryMerge_new_undersampled_Example.csv'\n",
    "# file_path = '../datasets_FIX2/FIX2_deduplicated_mangoNews_Nums3000p_CategoryMerge_new_undersampled.csv'\n",
    "\n",
    "data = pd.read_csv(file_path,low_memory=False,lineterminator=\"\\n\")\n",
    "\n",
    "\n",
    "# 加载BERT tokenizer和模型\n",
    "model_name = '../bert-base-multilingual-cased'\n",
    "tokenizer = BertTokenizer.from_pretrained(model_name)\n",
    "\n",
    "# 将模型移动到GPU\n",
    "device = torch.device('cuda' if torch.cuda.is_available() else 'cpu')\n",
    "\n",
    "# 定义数据集类\n",
    "class NewsDataset(Dataset):\n",
    "    def __init__(self, texts, labels, tokenizer, max_length=512):\n",
    "        self.texts = texts\n",
    "        self.labels = labels\n",
    "        self.tokenizer = tokenizer\n",
    "        self.max_length = max_length\n",
    "\n",
    "    def __len__(self):\n",
    "        return len(self.texts)\n",
    "\n",
    "    def __getitem__(self, index):\n",
    "        text = str(self.texts[index])\n",
    "        label = self.labels[index]\n",
    "\n",
    "        encoding = self.tokenizer.encode_plus(\n",
    "            text,\n",
    "            add_special_tokens=True,\n",
    "            max_length=self.max_length,\n",
    "            return_token_type_ids=False,\n",
    "            padding='max_length',\n",
    "            return_attention_mask=True,\n",
    "            return_tensors='pt',\n",
    "            truncation=True\n",
    "        )\n",
    "\n",
    "        return {\n",
    "            'text': text,\n",
    "            'input_ids': encoding['input_ids'].flatten(),\n",
    "            'attention_mask': encoding['attention_mask'].flatten(),\n",
    "            'label': torch.tensor(label, dtype=torch.long)\n",
    "        }\n",
    "\n",
    "# 将孟加拉语类别转换为数字标签\n",
    "label_map = {label: i for i, label in enumerate(data['category1'].unique())}\n",
    "labels = data['category1'].map(label_map).tolist()\n",
    "\n",
    "# 定义训练和评估函数\n",
    "def train_epoch(model, data_loader, optimizer, scheduler, device):\n",
    "    model.train()\n",
    "    total_loss = 0\n",
    "    progress_bar = tqdm(data_loader, desc='Training', leave=False)\n",
    "    for batch in progress_bar:\n",
    "        input_ids = batch['input_ids'].to(device)\n",
    "        attention_mask = batch['attention_mask'].to(device)\n",
    "        labels = batch['label'].to(device)\n",
    "\n",
    "        optimizer.zero_grad()\n",
    "        outputs = model(input_ids, attention_mask=attention_mask, labels=labels)\n",
    "        loss = outputs.loss\n",
    "        loss.backward()\n",
    "        optimizer.step()\n",
    "        scheduler.step()\n",
    "\n",
    "        total_loss += loss.item()\n",
    "        progress_bar.set_postfix({'loss': loss.item()})\n",
    "    return total_loss / len(data_loader)\n",
    "\n",
    "def evaluate(model, data_loader, device, label_map):\n",
    "    model.eval()\n",
    "    predictions = []\n",
    "    true_labels = []\n",
    "    with torch.no_grad():\n",
    "        for batch in data_loader:\n",
    "            input_ids = batch['input_ids'].to(device)\n",
    "            attention_mask = batch['attention_mask'].to(device)\n",
    "            labels = batch['label'].to(device)\n",
    "\n",
    "            outputs = model(input_ids, attention_mask=attention_mask)\n",
    "            logits = outputs.logits\n",
    "            batch_predictions = torch.argmax(logits, dim=1)\n",
    "            predictions.extend(batch_predictions.tolist())\n",
    "            true_labels.extend(labels.tolist())\n",
    "\n",
    "    label_map_inv = {v: k for k, v in label_map.items()}\n",
    "    print(label_map_inv)\n",
    "    print(predictions)\n",
    "\n",
    "    predictions = [label_map_inv[i] for i in predictions]\n",
    "    true_labels = [label_map_inv[i] for i in true_labels]\n",
    "\n",
    "    report = classification_report(true_labels, predictions, digits=4)\n",
    "    return report\n",
    "\n",
    "# 设置超参数\n",
    "num_epochs = 2\n",
    "batch_size = 4\n",
    "learning_rate = 2e-5\n",
    "num_classes = len(label_map)\n",
    "kfold = KFold(n_splits=5, shuffle=True, random_state=seed)\n",
    "\n"
   ]
  },
  {
   "cell_type": "code",
   "execution_count": 3,
   "id": "009dbaa4-015a-4db9-b77c-37f3bbc4aa03",
   "metadata": {},
   "outputs": [
    {
     "name": "stdout",
     "output_type": "stream",
     "text": [
      "Fold 1\n"
     ]
    },
    {
     "name": "stderr",
     "output_type": "stream",
     "text": [
      "Some weights of BertForSequenceClassification were not initialized from the model checkpoint at ../bert-base-multilingual-cased and are newly initialized: ['classifier.bias', 'classifier.weight']\n",
      "You should probably TRAIN this model on a down-stream task to be able to use it for predictions and inference.\n",
      "/opt/conda/envs/default/lib/python3.8/site-packages/transformers/optimization.py:429: FutureWarning: This implementation of AdamW is deprecated and will be removed in a future version. Use the PyTorch implementation torch.optim.AdamW instead, or set `no_deprecation_warning=True` to disable this warning\n",
      "  warnings.warn(\n",
      "                                                                       \r"
     ]
    },
    {
     "name": "stdout",
     "output_type": "stream",
     "text": [
      "Epoch 1/2\n",
      "Train Loss: 1.5010\n",
      "Validation Report:\n",
      "              precision    recall  f1-score   support\n",
      "\n",
      "    অন্যান্য     0.9167    0.6111    0.7333        18\n",
      "    অর্থনীতি     0.7200    0.6207    0.6667        29\n",
      "         আইন     0.8421    0.5926    0.6957        27\n",
      "    খেলাধুলা     0.9583    1.0000    0.9787        23\n",
      "     বিজ্ঞান     0.8000    0.6667    0.7273        24\n",
      "      বিনোদন     0.8400    1.0000    0.9130        21\n",
      "     রাজনীতি     0.7500    0.9600    0.8421        25\n",
      "  লাইফস্টাইল     0.7500    0.7059    0.7273        17\n",
      "      শিক্ষা     0.5185    0.8750    0.6512        16\n",
      "\n",
      "    accuracy                         0.7750       200\n",
      "   macro avg     0.7884    0.7813    0.7706       200\n",
      "weighted avg     0.7940    0.7750    0.7714       200\n",
      "\n"
     ]
    },
    {
     "name": "stderr",
     "output_type": "stream",
     "text": [
      "                                                                       \r"
     ]
    },
    {
     "name": "stdout",
     "output_type": "stream",
     "text": [
      "Epoch 2/2\n",
      "Train Loss: 0.6160\n",
      "Validation Report:\n",
      "              precision    recall  f1-score   support\n",
      "\n",
      "    অন্যান্য     0.9167    0.6111    0.7333        18\n",
      "    অর্থনীতি     0.6552    0.6552    0.6552        29\n",
      "         আইন     0.7241    0.7778    0.7500        27\n",
      "    খেলাধুলা     0.9583    1.0000    0.9787        23\n",
      "     বিজ্ঞান     0.9444    0.7083    0.8095        24\n",
      "      বিনোদন     0.8696    0.9524    0.9091        21\n",
      "     রাজনীতি     1.0000    0.8800    0.9362        25\n",
      "  লাইফস্টাইল     0.7368    0.8235    0.7778        17\n",
      "      শিক্ষা     0.5833    0.8750    0.7000        16\n",
      "\n",
      "    accuracy                         0.8050       200\n",
      "   macro avg     0.8209    0.8093    0.8055       200\n",
      "weighted avg     0.8244    0.8050    0.8065       200\n",
      "\n",
      "\n"
     ]
    },
    {
     "name": "stderr",
     "output_type": "stream",
     "text": [
      "Some weights of BertForSequenceClassification were not initialized from the model checkpoint at ../bert-base-multilingual-cased and are newly initialized: ['classifier.bias', 'classifier.weight']\n",
      "You should probably TRAIN this model on a down-stream task to be able to use it for predictions and inference.\n"
     ]
    },
    {
     "name": "stdout",
     "output_type": "stream",
     "text": [
      "Fold 1 Best Validation Report:\n",
      "              precision    recall  f1-score   support\n",
      "\n",
      "    অন্যান্য     0.9167    0.6111    0.7333        18\n",
      "    অর্থনীতি     0.6552    0.6552    0.6552        29\n",
      "         আইন     0.7241    0.7778    0.7500        27\n",
      "    খেলাধুলা     0.9583    1.0000    0.9787        23\n",
      "     বিজ্ঞান     0.9444    0.7083    0.8095        24\n",
      "      বিনোদন     0.8696    0.9524    0.9091        21\n",
      "     রাজনীতি     1.0000    0.8800    0.9362        25\n",
      "  লাইফস্টাইল     0.7368    0.8235    0.7778        17\n",
      "      শিক্ষা     0.5833    0.8750    0.7000        16\n",
      "\n",
      "    accuracy                         0.8050       200\n",
      "   macro avg     0.8209    0.8093    0.8055       200\n",
      "weighted avg     0.8244    0.8050    0.8065       200\n",
      "\n",
      "\n",
      "Fold 2\n"
     ]
    },
    {
     "name": "stderr",
     "output_type": "stream",
     "text": [
      "Some weights of BertForSequenceClassification were not initialized from the model checkpoint at ../bert-base-multilingual-cased and are newly initialized: ['classifier.bias', 'classifier.weight']\n",
      "You should probably TRAIN this model on a down-stream task to be able to use it for predictions and inference.\n",
      "/opt/conda/envs/default/lib/python3.8/site-packages/transformers/optimization.py:429: FutureWarning: This implementation of AdamW is deprecated and will be removed in a future version. Use the PyTorch implementation torch.optim.AdamW instead, or set `no_deprecation_warning=True` to disable this warning\n",
      "  warnings.warn(\n",
      "                                                                       \r"
     ]
    },
    {
     "name": "stdout",
     "output_type": "stream",
     "text": [
      "Epoch 1/2\n",
      "Train Loss: 1.5460\n",
      "Validation Report:\n",
      "              precision    recall  f1-score   support\n",
      "\n",
      "    অন্যান্য     0.8947    0.7391    0.8095        23\n",
      "    অর্থনীতি     0.6667    0.7000    0.6829        20\n",
      "         আইন     0.7059    0.5455    0.6154        22\n",
      "    খেলাধুলা     1.0000    0.9600    0.9796        25\n",
      "     বিজ্ঞান     0.8333    0.7143    0.7692        14\n",
      "      বিনোদন     0.5946    1.0000    0.7458        22\n",
      "     রাজনীতি     0.7826    0.7826    0.7826        23\n",
      "  লাইফস্টাইল     0.8182    0.6429    0.7200        28\n",
      "      শিক্ষা     0.8400    0.9130    0.8750        23\n",
      "\n",
      "    accuracy                         0.7800       200\n",
      "   macro avg     0.7929    0.7775    0.7756       200\n",
      "weighted avg     0.7971    0.7800    0.7788       200\n",
      "\n"
     ]
    },
    {
     "name": "stderr",
     "output_type": "stream",
     "text": [
      "                                                                       \r"
     ]
    },
    {
     "name": "stdout",
     "output_type": "stream",
     "text": [
      "Epoch 2/2\n",
      "Train Loss: 0.6223\n",
      "Validation Report:\n",
      "              precision    recall  f1-score   support\n",
      "\n",
      "    অন্যান্য     0.8333    0.8696    0.8511        23\n",
      "    অর্থনীতি     0.6957    0.8000    0.7442        20\n",
      "         আইন     0.8500    0.7727    0.8095        22\n",
      "    খেলাধুলা     1.0000    0.9600    0.9796        25\n",
      "     বিজ্ঞান     0.8571    0.8571    0.8571        14\n",
      "      বিনোদন     0.9091    0.9091    0.9091        22\n",
      "     রাজনীতি     0.8571    0.7826    0.8182        23\n",
      "  লাইফস্টাইল     0.8214    0.8214    0.8214        28\n",
      "      শিক্ষা     0.8333    0.8696    0.8511        23\n",
      "\n",
      "    accuracy                         0.8500       200\n",
      "   macro avg     0.8508    0.8491    0.8490       200\n",
      "weighted avg     0.8533    0.8500    0.8508       200\n",
      "\n",
      "\n"
     ]
    },
    {
     "name": "stderr",
     "output_type": "stream",
     "text": [
      "Some weights of BertForSequenceClassification were not initialized from the model checkpoint at ../bert-base-multilingual-cased and are newly initialized: ['classifier.bias', 'classifier.weight']\n",
      "You should probably TRAIN this model on a down-stream task to be able to use it for predictions and inference.\n"
     ]
    },
    {
     "name": "stdout",
     "output_type": "stream",
     "text": [
      "Fold 2 Best Validation Report:\n",
      "              precision    recall  f1-score   support\n",
      "\n",
      "    অন্যান্য     0.8333    0.8696    0.8511        23\n",
      "    অর্থনীতি     0.6957    0.8000    0.7442        20\n",
      "         আইন     0.8500    0.7727    0.8095        22\n",
      "    খেলাধুলা     1.0000    0.9600    0.9796        25\n",
      "     বিজ্ঞান     0.8571    0.8571    0.8571        14\n",
      "      বিনোদন     0.9091    0.9091    0.9091        22\n",
      "     রাজনীতি     0.8571    0.7826    0.8182        23\n",
      "  লাইফস্টাইল     0.8214    0.8214    0.8214        28\n",
      "      শিক্ষা     0.8333    0.8696    0.8511        23\n",
      "\n",
      "    accuracy                         0.8500       200\n",
      "   macro avg     0.8508    0.8491    0.8490       200\n",
      "weighted avg     0.8533    0.8500    0.8508       200\n",
      "\n",
      "\n",
      "Fold 3\n"
     ]
    },
    {
     "name": "stderr",
     "output_type": "stream",
     "text": [
      "Some weights of BertForSequenceClassification were not initialized from the model checkpoint at ../bert-base-multilingual-cased and are newly initialized: ['classifier.bias', 'classifier.weight']\n",
      "You should probably TRAIN this model on a down-stream task to be able to use it for predictions and inference.\n",
      "/opt/conda/envs/default/lib/python3.8/site-packages/transformers/optimization.py:429: FutureWarning: This implementation of AdamW is deprecated and will be removed in a future version. Use the PyTorch implementation torch.optim.AdamW instead, or set `no_deprecation_warning=True` to disable this warning\n",
      "  warnings.warn(\n",
      "                                                                       \r"
     ]
    },
    {
     "name": "stdout",
     "output_type": "stream",
     "text": [
      "Epoch 1/2\n",
      "Train Loss: 1.3753\n",
      "Validation Report:\n",
      "              precision    recall  f1-score   support\n",
      "\n",
      "    অন্যান্য     0.8667    0.5417    0.6667        24\n",
      "    অর্থনীতি     0.8333    0.5000    0.6250        20\n",
      "         আইন     0.8462    1.0000    0.9167        22\n",
      "    খেলাধুলা     1.0000    1.0000    1.0000        19\n",
      "     বিজ্ঞান     0.6400    0.8000    0.7111        20\n",
      "      বিনোদন     0.8571    0.9000    0.8780        20\n",
      "     রাজনীতি     0.7857    1.0000    0.8800        22\n",
      "  লাইফস্টাইল     0.7826    0.8571    0.8182        21\n",
      "      শিক্ষা     0.9032    0.8750    0.8889        32\n",
      "\n",
      "    accuracy                         0.8300       200\n",
      "   macro avg     0.8350    0.8304    0.8205       200\n",
      "weighted avg     0.8382    0.8300    0.8222       200\n",
      "\n"
     ]
    },
    {
     "name": "stderr",
     "output_type": "stream",
     "text": [
      "                                                                       \r"
     ]
    },
    {
     "name": "stdout",
     "output_type": "stream",
     "text": [
      "Epoch 2/2\n",
      "Train Loss: 0.5621\n",
      "Validation Report:\n",
      "              precision    recall  f1-score   support\n",
      "\n",
      "    অন্যান্য     0.8947    0.7083    0.7907        24\n",
      "    অর্থনীতি     0.6538    0.8500    0.7391        20\n",
      "         আইন     0.9130    0.9545    0.9333        22\n",
      "    খেলাধুলা     1.0000    1.0000    1.0000        19\n",
      "     বিজ্ঞান     0.8235    0.7000    0.7568        20\n",
      "      বিনোদন     1.0000    0.9000    0.9474        20\n",
      "     রাজনীতি     0.7692    0.9091    0.8333        22\n",
      "  লাইফস্টাইল     0.9474    0.8571    0.9000        21\n",
      "      শিক্ষা     0.8788    0.9062    0.8923        32\n",
      "\n",
      "    accuracy                         0.8650       200\n",
      "   macro avg     0.8756    0.8650    0.8659       200\n",
      "weighted avg     0.8752    0.8650    0.8658       200\n",
      "\n",
      "\n"
     ]
    },
    {
     "name": "stderr",
     "output_type": "stream",
     "text": [
      "Some weights of BertForSequenceClassification were not initialized from the model checkpoint at ../bert-base-multilingual-cased and are newly initialized: ['classifier.bias', 'classifier.weight']\n",
      "You should probably TRAIN this model on a down-stream task to be able to use it for predictions and inference.\n"
     ]
    },
    {
     "name": "stdout",
     "output_type": "stream",
     "text": [
      "Fold 3 Best Validation Report:\n",
      "              precision    recall  f1-score   support\n",
      "\n",
      "    অন্যান্য     0.8947    0.7083    0.7907        24\n",
      "    অর্থনীতি     0.6538    0.8500    0.7391        20\n",
      "         আইন     0.9130    0.9545    0.9333        22\n",
      "    খেলাধুলা     1.0000    1.0000    1.0000        19\n",
      "     বিজ্ঞান     0.8235    0.7000    0.7568        20\n",
      "      বিনোদন     1.0000    0.9000    0.9474        20\n",
      "     রাজনীতি     0.7692    0.9091    0.8333        22\n",
      "  লাইফস্টাইল     0.9474    0.8571    0.9000        21\n",
      "      শিক্ষা     0.8788    0.9062    0.8923        32\n",
      "\n",
      "    accuracy                         0.8650       200\n",
      "   macro avg     0.8756    0.8650    0.8659       200\n",
      "weighted avg     0.8752    0.8650    0.8658       200\n",
      "\n",
      "\n",
      "Fold 4\n"
     ]
    },
    {
     "name": "stderr",
     "output_type": "stream",
     "text": [
      "Some weights of BertForSequenceClassification were not initialized from the model checkpoint at ../bert-base-multilingual-cased and are newly initialized: ['classifier.bias', 'classifier.weight']\n",
      "You should probably TRAIN this model on a down-stream task to be able to use it for predictions and inference.\n",
      "/opt/conda/envs/default/lib/python3.8/site-packages/transformers/optimization.py:429: FutureWarning: This implementation of AdamW is deprecated and will be removed in a future version. Use the PyTorch implementation torch.optim.AdamW instead, or set `no_deprecation_warning=True` to disable this warning\n",
      "  warnings.warn(\n",
      "                                                                       \r"
     ]
    },
    {
     "name": "stdout",
     "output_type": "stream",
     "text": [
      "Epoch 1/2\n",
      "Train Loss: 1.4317\n",
      "Validation Report:\n",
      "              precision    recall  f1-score   support\n",
      "\n",
      "    অন্যান্য     0.8333    0.4348    0.5714        23\n",
      "    অর্থনীতি     0.8889    0.6400    0.7442        25\n",
      "         আইন     0.6757    0.9259    0.7813        27\n",
      "    খেলাধুলা     0.9375    0.9375    0.9375        32\n",
      "     বিজ্ঞান     0.9286    0.6190    0.7429        21\n",
      "      বিনোদন     0.8750    1.0000    0.9333         7\n",
      "     রাজনীতি     0.8333    0.8929    0.8621        28\n",
      "  লাইফস্টাইল     0.6452    0.9091    0.7547        22\n",
      "      শিক্ষা     0.7222    0.8667    0.7879        15\n",
      "\n",
      "    accuracy                         0.7950       200\n",
      "   macro avg     0.8155    0.8029    0.7906       200\n",
      "weighted avg     0.8181    0.7950    0.7877       200\n",
      "\n"
     ]
    },
    {
     "name": "stderr",
     "output_type": "stream",
     "text": [
      "                                                                       \r"
     ]
    },
    {
     "name": "stdout",
     "output_type": "stream",
     "text": [
      "Epoch 2/2\n",
      "Train Loss: 0.5922\n",
      "Validation Report:\n",
      "              precision    recall  f1-score   support\n",
      "\n",
      "    অন্যান্য     0.7647    0.5652    0.6500        23\n",
      "    অর্থনীতি     0.7586    0.8800    0.8148        25\n",
      "         আইন     0.7353    0.9259    0.8197        27\n",
      "    খেলাধুলা     0.9394    0.9688    0.9538        32\n",
      "     বিজ্ঞান     0.9167    0.5238    0.6667        21\n",
      "      বিনোদন     0.8750    1.0000    0.9333         7\n",
      "     রাজনীতি     0.9231    0.8571    0.8889        28\n",
      "  লাইফস্টাইল     0.8000    0.9091    0.8511        22\n",
      "      শিক্ষা     0.8125    0.8667    0.8387        15\n",
      "\n",
      "    accuracy                         0.8300       200\n",
      "   macro avg     0.8361    0.8330    0.8241       200\n",
      "weighted avg     0.8374    0.8300    0.8235       200\n",
      "\n",
      "\n"
     ]
    },
    {
     "name": "stderr",
     "output_type": "stream",
     "text": [
      "Some weights of BertForSequenceClassification were not initialized from the model checkpoint at ../bert-base-multilingual-cased and are newly initialized: ['classifier.bias', 'classifier.weight']\n",
      "You should probably TRAIN this model on a down-stream task to be able to use it for predictions and inference.\n"
     ]
    },
    {
     "name": "stdout",
     "output_type": "stream",
     "text": [
      "Fold 4 Best Validation Report:\n",
      "              precision    recall  f1-score   support\n",
      "\n",
      "    অন্যান্য     0.7647    0.5652    0.6500        23\n",
      "    অর্থনীতি     0.7586    0.8800    0.8148        25\n",
      "         আইন     0.7353    0.9259    0.8197        27\n",
      "    খেলাধুলা     0.9394    0.9688    0.9538        32\n",
      "     বিজ্ঞান     0.9167    0.5238    0.6667        21\n",
      "      বিনোদন     0.8750    1.0000    0.9333         7\n",
      "     রাজনীতি     0.9231    0.8571    0.8889        28\n",
      "  লাইফস্টাইল     0.8000    0.9091    0.8511        22\n",
      "      শিক্ষা     0.8125    0.8667    0.8387        15\n",
      "\n",
      "    accuracy                         0.8300       200\n",
      "   macro avg     0.8361    0.8330    0.8241       200\n",
      "weighted avg     0.8374    0.8300    0.8235       200\n",
      "\n",
      "\n",
      "Fold 5\n"
     ]
    },
    {
     "name": "stderr",
     "output_type": "stream",
     "text": [
      "Some weights of BertForSequenceClassification were not initialized from the model checkpoint at ../bert-base-multilingual-cased and are newly initialized: ['classifier.bias', 'classifier.weight']\n",
      "You should probably TRAIN this model on a down-stream task to be able to use it for predictions and inference.\n",
      "/opt/conda/envs/default/lib/python3.8/site-packages/transformers/optimization.py:429: FutureWarning: This implementation of AdamW is deprecated and will be removed in a future version. Use the PyTorch implementation torch.optim.AdamW instead, or set `no_deprecation_warning=True` to disable this warning\n",
      "  warnings.warn(\n",
      "                                                                       \r"
     ]
    },
    {
     "name": "stdout",
     "output_type": "stream",
     "text": [
      "Epoch 1/2\n",
      "Train Loss: 1.4277\n",
      "Validation Report:\n",
      "              precision    recall  f1-score   support\n",
      "\n",
      "    অন্যান্য     1.0000    0.5882    0.7407        17\n",
      "    অর্থনীতি     0.6957    0.6667    0.6809        24\n",
      "         আইন     0.8571    0.8571    0.8571        21\n",
      "    খেলাধুলা     0.8462    1.0000    0.9167        22\n",
      "     বিজ্ঞান     0.9333    0.6087    0.7368        23\n",
      "      বিনোদন     0.8571    0.9600    0.9057        25\n",
      "     রাজনীতি     0.8095    0.8500    0.8293        20\n",
      "  লাইফস্টাইল     0.8750    0.8077    0.8400        26\n",
      "      শিক্ষা     0.6562    0.9545    0.7778        22\n",
      "\n",
      "    accuracy                         0.8150       200\n",
      "   macro avg     0.8367    0.8103    0.8094       200\n",
      "weighted avg     0.8329    0.8150    0.8111       200\n",
      "\n"
     ]
    },
    {
     "name": "stderr",
     "output_type": "stream",
     "text": [
      "                                                                       \r"
     ]
    },
    {
     "name": "stdout",
     "output_type": "stream",
     "text": [
      "Epoch 2/2\n",
      "Train Loss: 0.6597\n",
      "Validation Report:\n",
      "              precision    recall  f1-score   support\n",
      "\n",
      "    অন্যান্য     0.8333    0.5882    0.6897        17\n",
      "    অর্থনীতি     0.8235    0.5833    0.6829        24\n",
      "         আইন     0.7917    0.9048    0.8444        21\n",
      "    খেলাধুলা     1.0000    1.0000    1.0000        22\n",
      "     বিজ্ঞান     0.7143    0.8696    0.7843        23\n",
      "      বিনোদন     0.8000    0.8000    0.8000        25\n",
      "     রাজনীতি     0.7917    0.9500    0.8636        20\n",
      "  লাইফস্টাইল     0.8519    0.8846    0.8679        26\n",
      "      শিক্ষা     0.9048    0.8636    0.8837        22\n",
      "\n",
      "    accuracy                         0.8300       200\n",
      "   macro avg     0.8346    0.8271    0.8241       200\n",
      "weighted avg     0.8344    0.8300    0.8258       200\n",
      "\n",
      "\n"
     ]
    },
    {
     "name": "stderr",
     "output_type": "stream",
     "text": [
      "Some weights of BertForSequenceClassification were not initialized from the model checkpoint at ../bert-base-multilingual-cased and are newly initialized: ['classifier.bias', 'classifier.weight']\n",
      "You should probably TRAIN this model on a down-stream task to be able to use it for predictions and inference.\n"
     ]
    },
    {
     "name": "stdout",
     "output_type": "stream",
     "text": [
      "Fold 5 Best Validation Report:\n",
      "              precision    recall  f1-score   support\n",
      "\n",
      "    অন্যান্য     0.8333    0.5882    0.6897        17\n",
      "    অর্থনীতি     0.8235    0.5833    0.6829        24\n",
      "         আইন     0.7917    0.9048    0.8444        21\n",
      "    খেলাধুলা     1.0000    1.0000    1.0000        22\n",
      "     বিজ্ঞান     0.7143    0.8696    0.7843        23\n",
      "      বিনোদন     0.8000    0.8000    0.8000        25\n",
      "     রাজনীতি     0.7917    0.9500    0.8636        20\n",
      "  লাইফস্টাইল     0.8519    0.8846    0.8679        26\n",
      "      শিক্ষা     0.9048    0.8636    0.8837        22\n",
      "\n",
      "    accuracy                         0.8300       200\n",
      "   macro avg     0.8346    0.8271    0.8241       200\n",
      "weighted avg     0.8344    0.8300    0.8258       200\n",
      "\n",
      "\n"
     ]
    }
   ],
   "source": [
    "# 存储所有fold的性能指标\n",
    "all_reports = []\n",
    "    \n",
    "# K-Fold交叉验证\n",
    "for fold, (train_idx, val_idx) in enumerate(kfold.split(data)):\n",
    "    print(f'Fold {fold + 1}')\n",
    "    \n",
    "    train_data = data.iloc[train_idx]\n",
    "    val_data = data.iloc[val_idx]\n",
    "\n",
    "    train_texts = train_data['body'].tolist()\n",
    "    train_labels = train_data['category1'].map(label_map).tolist()\n",
    "    val_texts = val_data['body'].tolist()\n",
    "    val_labels = val_data['category1'].map(label_map).tolist()\n",
    "\n",
    "    train_dataset = NewsDataset(train_texts, train_labels, tokenizer)\n",
    "    val_dataset = NewsDataset(val_texts, val_labels, tokenizer)\n",
    "\n",
    "    train_loader = DataLoader(train_dataset, batch_size=batch_size, shuffle=True)\n",
    "    val_loader = DataLoader(val_dataset, batch_size=batch_size)\n",
    "\n",
    "    model = BertForSequenceClassification.from_pretrained(model_name, num_labels=num_classes)\n",
    "    model.to(device)\n",
    "\n",
    "    optimizer = AdamW(model.parameters(), lr=learning_rate)\n",
    "    total_steps = len(train_loader) * num_epochs\n",
    "    scheduler = get_linear_schedule_with_warmup(optimizer, num_warmup_steps=0, num_training_steps=total_steps)\n",
    "\n",
    "    best_val_loss = float('inf')\n",
    "    for epoch in range(num_epochs):\n",
    "        train_loss = train_epoch(model, train_loader, optimizer, scheduler, device)\n",
    "        val_report = evaluate(model, val_loader, device, label_map)\n",
    "\n",
    "        print(f'Epoch {epoch + 1}/{num_epochs}')\n",
    "        print(f'Train Loss: {train_loss:.4f}')\n",
    "        print('Validation Report:')\n",
    "        print(val_report)\n",
    "\n",
    "        val_loss = 1 - float(val_report.split('\\n')[-2].split()[-2])  # 提取验证集损失\n",
    "        if val_loss < best_val_loss:\n",
    "            best_val_loss = val_loss\n",
    "            torch.save(model.state_dict(), f'best_model_fold_{fold + 1}.pth')\n",
    "\n",
    "    print()\n",
    "\n",
    "    # 在每个fold结束后,评估最佳模型在验证集上的性能\n",
    "    best_model = BertForSequenceClassification.from_pretrained(model_name, num_labels=num_classes)\n",
    "    best_model.load_state_dict(torch.load(f'best_model_fold_{fold + 1}.pth'))\n",
    "    best_model.to(device)\n",
    "    val_report = evaluate(best_model, val_loader, device, label_map)\n",
    "    all_reports.append(val_report)\n",
    "\n",
    "    print(f'Fold {fold + 1} Best Validation Report:')\n",
    "    print(val_report)\n",
    "    print()\n"
   ]
  },
  {
   "cell_type": "code",
   "execution_count": null,
   "id": "8dddfd22-7591-472b-b4f6-dc0c6604d848",
   "metadata": {},
   "outputs": [],
   "source": []
  },
  {
   "cell_type": "code",
   "execution_count": 4,
   "id": "e2128dfa-0469-4b4e-b8cf-d0ccf2741e33",
   "metadata": {},
   "outputs": [
    {
     "name": "stdout",
     "output_type": "stream",
     "text": [
      "Average Performance Across All Folds:\n"
     ]
    },
    {
     "ename": "ValueError",
     "evalue": "not enough values to unpack (expected 4, got 3)",
     "output_type": "error",
     "traceback": [
      "\u001b[0;31m---------------------------------------------------------------------------\u001b[0m",
      "\u001b[0;31mValueError\u001b[0m                                Traceback (most recent call last)",
      "Cell \u001b[0;32mIn[4], line 18\u001b[0m\n\u001b[1;32m     15\u001b[0m     values\u001b[38;5;241m.\u001b[39mappend(cls_values)\n\u001b[1;32m     17\u001b[0m avg_values \u001b[38;5;241m=\u001b[39m np\u001b[38;5;241m.\u001b[39mmean(values, axis\u001b[38;5;241m=\u001b[39m\u001b[38;5;241m0\u001b[39m)\n\u001b[0;32m---> 18\u001b[0m cls_report \u001b[38;5;241m=\u001b[39m \u001b[38;5;124m'\u001b[39m\u001b[38;5;130;01m\\n\u001b[39;00m\u001b[38;5;124m'\u001b[39m\u001b[38;5;241m.\u001b[39mjoin([\u001b[38;5;124mf\u001b[39m\u001b[38;5;124m'\u001b[39m\u001b[38;5;132;01m{\u001b[39;00m\u001b[38;5;28mcls\u001b[39m\u001b[38;5;132;01m}\u001b[39;00m\u001b[38;5;130;01m\\t\u001b[39;00m\u001b[38;5;132;01m{\u001b[39;00mprec\u001b[38;5;132;01m:\u001b[39;00m\u001b[38;5;124m.4f\u001b[39m\u001b[38;5;132;01m}\u001b[39;00m\u001b[38;5;130;01m\\t\u001b[39;00m\u001b[38;5;132;01m{\u001b[39;00mrec\u001b[38;5;132;01m:\u001b[39;00m\u001b[38;5;124m.4f\u001b[39m\u001b[38;5;132;01m}\u001b[39;00m\u001b[38;5;130;01m\\t\u001b[39;00m\u001b[38;5;132;01m{\u001b[39;00mf1\u001b[38;5;132;01m:\u001b[39;00m\u001b[38;5;124m.4f\u001b[39m\u001b[38;5;132;01m}\u001b[39;00m\u001b[38;5;130;01m\\t\u001b[39;00m\u001b[38;5;132;01m{\u001b[39;00msup\u001b[38;5;132;01m:\u001b[39;00m\u001b[38;5;124m.0f\u001b[39m\u001b[38;5;132;01m}\u001b[39;00m\u001b[38;5;124m'\u001b[39m \u001b[38;5;28;01mfor\u001b[39;00m \u001b[38;5;28mcls\u001b[39m, (prec, rec, f1, sup) \u001b[38;5;129;01min\u001b[39;00m \u001b[38;5;28mzip\u001b[39m(label_map\u001b[38;5;241m.\u001b[39mkeys(), avg_values)])\n\u001b[1;32m     20\u001b[0m avg_acc \u001b[38;5;241m=\u001b[39m np\u001b[38;5;241m.\u001b[39mmean([\u001b[38;5;28mfloat\u001b[39m(line\u001b[38;5;241m.\u001b[39msplit()[\u001b[38;5;241m-\u001b[39m\u001b[38;5;241m2\u001b[39m]) \u001b[38;5;28;01mfor\u001b[39;00m report \u001b[38;5;129;01min\u001b[39;00m all_reports \u001b[38;5;28;01mfor\u001b[39;00m line \u001b[38;5;129;01min\u001b[39;00m report\u001b[38;5;241m.\u001b[39msplit(\u001b[38;5;124m'\u001b[39m\u001b[38;5;130;01m\\n\u001b[39;00m\u001b[38;5;124m'\u001b[39m) \u001b[38;5;28;01mif\u001b[39;00m \u001b[38;5;124m'\u001b[39m\u001b[38;5;124maccuracy\u001b[39m\u001b[38;5;124m'\u001b[39m \u001b[38;5;129;01min\u001b[39;00m line])\n\u001b[1;32m     21\u001b[0m avg_macro \u001b[38;5;241m=\u001b[39m np\u001b[38;5;241m.\u001b[39mmean([\u001b[38;5;28mfloat\u001b[39m(line\u001b[38;5;241m.\u001b[39msplit()[\u001b[38;5;241m-\u001b[39m\u001b[38;5;241m2\u001b[39m]) \u001b[38;5;28;01mfor\u001b[39;00m report \u001b[38;5;129;01min\u001b[39;00m all_reports \u001b[38;5;28;01mfor\u001b[39;00m line \u001b[38;5;129;01min\u001b[39;00m report\u001b[38;5;241m.\u001b[39msplit(\u001b[38;5;124m'\u001b[39m\u001b[38;5;130;01m\\n\u001b[39;00m\u001b[38;5;124m'\u001b[39m) \u001b[38;5;28;01mif\u001b[39;00m \u001b[38;5;124m'\u001b[39m\u001b[38;5;124mmacro avg\u001b[39m\u001b[38;5;124m'\u001b[39m \u001b[38;5;129;01min\u001b[39;00m line])\n",
      "Cell \u001b[0;32mIn[4], line 18\u001b[0m, in \u001b[0;36m<listcomp>\u001b[0;34m(.0)\u001b[0m\n\u001b[1;32m     15\u001b[0m     values\u001b[38;5;241m.\u001b[39mappend(cls_values)\n\u001b[1;32m     17\u001b[0m avg_values \u001b[38;5;241m=\u001b[39m np\u001b[38;5;241m.\u001b[39mmean(values, axis\u001b[38;5;241m=\u001b[39m\u001b[38;5;241m0\u001b[39m)\n\u001b[0;32m---> 18\u001b[0m cls_report \u001b[38;5;241m=\u001b[39m \u001b[38;5;124m'\u001b[39m\u001b[38;5;130;01m\\n\u001b[39;00m\u001b[38;5;124m'\u001b[39m\u001b[38;5;241m.\u001b[39mjoin([\u001b[38;5;124mf\u001b[39m\u001b[38;5;124m'\u001b[39m\u001b[38;5;132;01m{\u001b[39;00m\u001b[38;5;28mcls\u001b[39m\u001b[38;5;132;01m}\u001b[39;00m\u001b[38;5;130;01m\\t\u001b[39;00m\u001b[38;5;132;01m{\u001b[39;00mprec\u001b[38;5;132;01m:\u001b[39;00m\u001b[38;5;124m.4f\u001b[39m\u001b[38;5;132;01m}\u001b[39;00m\u001b[38;5;130;01m\\t\u001b[39;00m\u001b[38;5;132;01m{\u001b[39;00mrec\u001b[38;5;132;01m:\u001b[39;00m\u001b[38;5;124m.4f\u001b[39m\u001b[38;5;132;01m}\u001b[39;00m\u001b[38;5;130;01m\\t\u001b[39;00m\u001b[38;5;132;01m{\u001b[39;00mf1\u001b[38;5;132;01m:\u001b[39;00m\u001b[38;5;124m.4f\u001b[39m\u001b[38;5;132;01m}\u001b[39;00m\u001b[38;5;130;01m\\t\u001b[39;00m\u001b[38;5;132;01m{\u001b[39;00msup\u001b[38;5;132;01m:\u001b[39;00m\u001b[38;5;124m.0f\u001b[39m\u001b[38;5;132;01m}\u001b[39;00m\u001b[38;5;124m'\u001b[39m \u001b[38;5;28;01mfor\u001b[39;00m \u001b[38;5;28mcls\u001b[39m, (prec, rec, f1, sup) \u001b[38;5;129;01min\u001b[39;00m \u001b[38;5;28mzip\u001b[39m(label_map\u001b[38;5;241m.\u001b[39mkeys(), avg_values)])\n\u001b[1;32m     20\u001b[0m avg_acc \u001b[38;5;241m=\u001b[39m np\u001b[38;5;241m.\u001b[39mmean([\u001b[38;5;28mfloat\u001b[39m(line\u001b[38;5;241m.\u001b[39msplit()[\u001b[38;5;241m-\u001b[39m\u001b[38;5;241m2\u001b[39m]) \u001b[38;5;28;01mfor\u001b[39;00m report \u001b[38;5;129;01min\u001b[39;00m all_reports \u001b[38;5;28;01mfor\u001b[39;00m line \u001b[38;5;129;01min\u001b[39;00m report\u001b[38;5;241m.\u001b[39msplit(\u001b[38;5;124m'\u001b[39m\u001b[38;5;130;01m\\n\u001b[39;00m\u001b[38;5;124m'\u001b[39m) \u001b[38;5;28;01mif\u001b[39;00m \u001b[38;5;124m'\u001b[39m\u001b[38;5;124maccuracy\u001b[39m\u001b[38;5;124m'\u001b[39m \u001b[38;5;129;01min\u001b[39;00m line])\n\u001b[1;32m     21\u001b[0m avg_macro \u001b[38;5;241m=\u001b[39m np\u001b[38;5;241m.\u001b[39mmean([\u001b[38;5;28mfloat\u001b[39m(line\u001b[38;5;241m.\u001b[39msplit()[\u001b[38;5;241m-\u001b[39m\u001b[38;5;241m2\u001b[39m]) \u001b[38;5;28;01mfor\u001b[39;00m report \u001b[38;5;129;01min\u001b[39;00m all_reports \u001b[38;5;28;01mfor\u001b[39;00m line \u001b[38;5;129;01min\u001b[39;00m report\u001b[38;5;241m.\u001b[39msplit(\u001b[38;5;124m'\u001b[39m\u001b[38;5;130;01m\\n\u001b[39;00m\u001b[38;5;124m'\u001b[39m) \u001b[38;5;28;01mif\u001b[39;00m \u001b[38;5;124m'\u001b[39m\u001b[38;5;124mmacro avg\u001b[39m\u001b[38;5;124m'\u001b[39m \u001b[38;5;129;01min\u001b[39;00m line])\n",
      "\u001b[0;31mValueError\u001b[0m: not enough values to unpack (expected 4, got 3)"
     ]
    }
   ],
   "source": [
    "\n",
    "# 计算并打印所有fold的平均性能\n",
    "print('Average Performance Across All Folds:')\n",
    "all_lines = [report.split('\\n') for report in all_reports]\n",
    "header = all_lines[0][0] + '\\t' + '\\t'.join([line.strip() for line in all_lines[0][-4:]])\n",
    "\n",
    "values = []\n",
    "for report in all_reports:\n",
    "    lines = report.split('\\n')\n",
    "    cls_lines = lines[1:-5]\n",
    "    cls_values = []\n",
    "    for line in cls_lines:\n",
    "        parts = line.split()\n",
    "        if len(parts) >= 5:\n",
    "            cls_values.append([float(val) if val != 'nan' else 0.0 for val in parts[1:-1]])\n",
    "    values.append(cls_values)\n",
    "\n",
    "avg_values = np.mean(values, axis=0)\n",
    "cls_report = '\\n'.join([f'{cls}\\t{prec:.4f}\\t{rec:.4f}\\t{f1:.4f}\\t{sup:.0f}' for cls, (prec, rec, f1, sup) in zip(label_map.keys(), avg_values)])\n",
    "\n",
    "avg_acc = np.mean([float(line.split()[-2]) for report in all_reports for line in report.split('\\n') if 'accuracy' in line])\n",
    "avg_macro = np.mean([float(line.split()[-2]) for report in all_reports for line in report.split('\\n') if 'macro avg' in line])\n",
    "avg_weighted = np.mean([float(line.split()[-2]) for report in all_reports for line in report.split('\\n') if 'weighted avg' in line])\n",
    "\n",
    "avg_report = header + '\\n' + cls_report + '\\n' + f\"accuracy\\t{avg_acc:.4f}\\nmacro avg\\t{avg_macro:.4f}\\nweighted avg\\t{avg_weighted:.4f}\"\n",
    "print(avg_report)"
   ]
  },
  {
   "cell_type": "code",
   "execution_count": null,
   "id": "b576271b-b8cf-4acd-a32b-1b28784652f0",
   "metadata": {},
   "outputs": [],
   "source": []
  }
 ],
 "metadata": {
  "kernelspec": {
   "display_name": "conda-default",
   "language": "python",
   "name": "conda-default"
  },
  "language_info": {
   "codemirror_mode": {
    "name": "ipython",
    "version": 3
   },
   "file_extension": ".py",
   "mimetype": "text/x-python",
   "name": "python",
   "nbconvert_exporter": "python",
   "pygments_lexer": "ipython3",
   "version": "3.8.16"
  }
 },
 "nbformat": 4,
 "nbformat_minor": 5
}
