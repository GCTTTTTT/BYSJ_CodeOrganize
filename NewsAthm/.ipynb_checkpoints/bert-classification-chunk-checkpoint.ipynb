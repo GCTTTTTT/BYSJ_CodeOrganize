{
 "cells": [
  {
   "cell_type": "code",
   "execution_count": null,
   "id": "cce20f3f-400f-40ec-bcd1-f69ad9f52072",
   "metadata": {},
   "outputs": [],
   "source": [
    "import pandas as pd\n",
    "import torch\n",
    "from torch.utils.data import DataLoader, Dataset\n",
    "from transformers import BertTokenizer, BertForSequenceClassification, AdamW\n",
    "from sklearn.model_selection import train_test_split\n",
    "from sklearn.metrics import classification_report\n",
    "from tqdm import tqdm\n"
   ]
  },
  {
   "cell_type": "code",
   "execution_count": null,
   "id": "0f1d975e-c6da-4909-bb88-af580e872c55",
   "metadata": {},
   "outputs": [],
   "source": [
    "# 加载CSV数据文件\n",
    "file_path = 'deduplicated_mangoNews_Nums3000p_CategoryMerge.csv'\n",
    "\n",
    "# 分块读取CSV文件，处理类别缺失\n",
    "chunk_size = 100000  # 每次读取10万行\n",
    "chunks = pd.read_csv(file_path, chunksize=chunk_size)\n",
    "\n",
    "# 初始化类别计数器\n",
    "category_counts = {}\n",
    "\n",
    "# 逐块处理数据\n",
    "for chunk in tqdm(chunks, desc=\"Reading CSV\", leave=False):\n",
    "    # 丢弃空白类别\n",
    "    chunk = chunk.dropna(subset=['category1'])\n",
    "\n",
    "    # 统计类别数量\n",
    "    for category in chunk['category1']:\n",
    "        if category in category_counts:\n",
    "            category_counts[category] += 1\n",
    "        else:\n",
    "            category_counts[category] = 1\n",
    "\n",
    "# 输出类别数量\n",
    "print(\"Category Counts:\")\n",
    "for category, count in category_counts.items():\n",
    "    print(f\"{category}: {count}\")\n"
   ]
  },
  {
   "cell_type": "code",
   "execution_count": null,
   "id": "8efdc8f4-56fa-4c12-8477-30b3af705274",
   "metadata": {},
   "outputs": [],
   "source": [
    "\n",
    "# 将类别列类别转换为整数标签\n",
    "categories = list(category_counts.keys())\n",
    "category_to_label = {category: label for label, category in enumerate(categories)}\n",
    "print(category_to_label)\n",
    "\n",
    "# 读取CSV文件，分块读取\n",
    "chunks = pd.read_csv(file_path, chunksize=chunk_size)\n",
    "\n",
    "# 初始化Bert tokenizer和模型\n",
    "tokenizer = BertTokenizer.from_pretrained('bert-base-uncased')\n",
    "num_classes = len(categories)\n",
    "model = BertForSequenceClassification.from_pretrained('bert-base-uncased', num_labels=num_classes)\n",
    "\n"
   ]
  },
  {
   "cell_type": "code",
   "execution_count": null,
   "id": "ca5e91d3-358a-409d-8138-7786fbe25c87",
   "metadata": {},
   "outputs": [],
   "source": [
    "# 定义数据集类\n",
    "class CustomDataset(Dataset):\n",
    "    def __init__(self, texts, labels, tokenizer, max_len=128):\n",
    "        self.texts = texts\n",
    "        self.labels = labels\n",
    "        self.tokenizer = tokenizer\n",
    "        self.max_len = max_len\n",
    "\n",
    "    def __len__(self):\n",
    "        return len(self.texts)\n",
    "\n",
    "    def __getitem__(self, idx):\n",
    "        text = str(self.texts.iloc[idx])\n",
    "        label = self.labels[idx]\n",
    "\n",
    "        encoding = self.tokenizer.encode_plus(\n",
    "            text,\n",
    "            add_special_tokens=True,\n",
    "            max_length=self.max_len,\n",
    "            return_token_type_ids=False,\n",
    "            pad_to_max_length=True,\n",
    "            return_attention_mask=True,\n",
    "            return_tensors='pt',\n",
    "        )\n",
    "\n",
    "        return {\n",
    "            'text': text,\n",
    "            'input_ids': encoding['input_ids'].flatten(),\n",
    "            'attention_mask': encoding['attention_mask'].flatten(),\n",
    "            'label': torch.tensor(label, dtype=torch.long)\n",
    "        }\n"
   ]
  },
  {
   "cell_type": "code",
   "execution_count": null,
   "id": "83c55fb7-fa09-487e-8d40-63ee9c145ca2",
   "metadata": {},
   "outputs": [],
   "source": [
    "\n",
    "# 微调模型\n",
    "def train_model(model, train_loader, optimizer, device):\n",
    "    model.train()\n",
    "    total_loss = 0\n",
    "\n",
    "    with tqdm(train_loader, desc=\"Training\", leave=False) as iterator:\n",
    "        for batch in iterator:\n",
    "            input_ids = batch['input_ids'].to(device)\n",
    "            attention_mask = batch['attention_mask'].to(device)\n",
    "            labels = batch['label'].to(device)\n",
    "\n",
    "            optimizer.zero_grad()\n",
    "            outputs = model(input_ids, attention_mask=attention_mask, labels=labels)\n",
    "            loss = outputs.loss\n",
    "            total_loss += loss.item()\n",
    "\n",
    "            loss.backward()\n",
    "            optimizer.step()\n",
    "\n",
    "            iterator.set_postfix(loss=loss.item())\n",
    "\n",
    "    return total_loss / len(train_loader)\n"
   ]
  },
  {
   "cell_type": "code",
   "execution_count": null,
   "id": "3c9fb6ab-0361-4bb3-9b1a-2ac9eec9b2eb",
   "metadata": {},
   "outputs": [],
   "source": [
    "\n",
    "# 评估模型\n",
    "def evaluate_model(model, test_loader, device):\n",
    "    model.eval()\n",
    "    all_preds = []\n",
    "    all_labels = []\n",
    "\n",
    "    with torch.no_grad(), tqdm(test_loader, desc=\"Evaluating\", leave=False) as iterator:\n",
    "        for batch in iterator:\n",
    "            input_ids = batch['input_ids'].to(device)\n",
    "            attention_mask = batch['attention_mask'].to(device)\n",
    "            labels = batch['label'].to(device)\n",
    "\n",
    "            outputs = model(input_ids, attention_mask=attention_mask)\n",
    "            logits = outputs.logits\n",
    "            preds = torch.argmax(logits, dim=1).cpu().numpy()\n",
    "\n",
    "            all_preds.extend(preds)\n",
    "            all_labels.extend(labels.cpu().numpy())\n",
    "\n",
    "    return all_labels, all_preds\n",
    "\n"
   ]
  },
  {
   "cell_type": "code",
   "execution_count": null,
   "id": "8f845a34-f29a-4d91-9dee-6a6b9cce1a97",
   "metadata": {},
   "outputs": [],
   "source": [
    "# 数据预处理，包括分块读取、文本预处理、标签转换等\n",
    "train_texts = []\n",
    "train_labels = []\n",
    "\n",
    "# 分块读取\n",
    "chunks = pd.read_csv(file_path, chunksize=chunk_size)\n",
    "\n",
    "for chunk in tqdm(chunks, desc=\"Preprocessing\", leave=False):\n",
    "    # 丢弃空白类别\n",
    "    chunk = chunk.dropna(subset=['category1'])\n",
    "\n",
    "    # 预处理每个块\n",
    "    for index, row in chunk.iterrows():\n",
    "        train_texts.append(row['body'])\n",
    "        train_labels.append(category_to_label[row['category1']])\n",
    "\n",
    "# 划分训练集和测试集\n",
    "train_texts, test_texts, train_labels, test_labels = train_test_split(train_texts, train_labels, test_size=0.2, random_state=42)\n"
   ]
  },
  {
   "cell_type": "code",
   "execution_count": null,
   "id": "0b48591e-c388-46da-94fe-bdb8d96f1510",
   "metadata": {},
   "outputs": [],
   "source": [
    "\n",
    "# 创建训练和测试数据集实例\n",
    "train_dataset = CustomDataset(train_texts, train_labels, tokenizer)\n",
    "test_dataset = CustomDataset(test_texts, test_labels, tokenizer)\n",
    "\n",
    "# 使用DataLoader加载数据\n",
    "train_loader = DataLoader(train_dataset, batch_size=32, shuffle=True)\n",
    "test_loader = DataLoader(test_dataset, batch_size=32, shuffle=False)\n",
    "\n",
    "# 将模型移动到GPU（如果可用）\n",
    "device = torch.device('cuda' if torch.cuda.is_available() else 'cpu')\n",
    "model.to(device)\n"
   ]
  },
  {
   "cell_type": "code",
   "execution_count": null,
   "id": "dbbd3cf8-6635-4a8b-aaeb-a1d11d47802c",
   "metadata": {},
   "outputs": [],
   "source": [
    "# 定义优化器和损失函数\n",
    "optimizer = AdamW(model.parameters(), lr=2e-5)\n"
   ]
  },
  {
   "cell_type": "code",
   "execution_count": null,
   "id": "961df524-f20b-46c3-8e23-cc895b1d0d13",
   "metadata": {},
   "outputs": [],
   "source": [
    "# 训练模型\n",
    "num_epochs = 3\n",
    "for epoch in range(num_epochs):\n",
    "    train_loss = train_model(model, train_loader, optimizer, device)\n",
    "    print(f'Epoch {epoch + 1}/{num_epochs}, Train Loss: {train_loss}')"
   ]
  },
  {
   "cell_type": "code",
   "execution_count": null,
   "id": "e93b9803-9c4e-4788-87ed-01c66214afe6",
   "metadata": {},
   "outputs": [],
   "source": [
    "# 评估模型\n",
    "true_labels, predicted_labels = evaluate_model(model, test_loader, device)\n",
    "print(classification_report(true_labels, predicted_labels, target_names=categories))\n"
   ]
  }
 ],
 "metadata": {
  "kernelspec": {
   "display_name": "conda-default",
   "language": "python",
   "name": "conda-default"
  },
  "language_info": {
   "codemirror_mode": {
    "name": "ipython",
    "version": 3
   },
   "file_extension": ".py",
   "mimetype": "text/x-python",
   "name": "python",
   "nbconvert_exporter": "python",
   "pygments_lexer": "ipython3",
   "version": "3.8.16"
  }
 },
 "nbformat": 4,
 "nbformat_minor": 5
}
