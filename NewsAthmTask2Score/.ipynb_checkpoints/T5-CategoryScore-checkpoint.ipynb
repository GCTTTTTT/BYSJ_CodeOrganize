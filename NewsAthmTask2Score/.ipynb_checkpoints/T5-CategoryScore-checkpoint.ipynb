{
 "cells": [
  {
   "cell_type": "code",
   "execution_count": 1,
   "id": "2cd01da9-de3a-4828-a4e2-7603f87209ad",
   "metadata": {},
   "outputs": [],
   "source": [
    "import pandas as pd\n",
    "\n",
    "# Create a DataFrame with the provided data\n",
    "data = {\n",
    "    'category': ['রাজনীতি', 'অর্থনীতি', 'আইন', 'বিজ্ঞান', 'শিক্ষা', 'লাইফস্টাইল', 'খেলাধুলা', 'বিনোদন', 'অন্যান্য'],\n",
    "    'category_CN': ['政治', '经济', '法律', '科学', '教育', '生活方式', '体育', '娱乐', '其他'],\n",
    "    'rank': [1, 2, 3, 4, 5, 6, 7, 8, 9],\n",
    "    'S_scale': [1.0, 0.875, 0.75, 0.625, 0.5, 0.375, 0.25, 0.125, 0.0],\n",
    "    'S_score': [20, 17.5, 15, 12.5, 10, 7.5, 5, 2.5, 0]\n",
    "}\n",
    "\n",
    "df = pd.DataFrame(data)\n",
    "\n",
    "# Save the DataFrame to a CSV file\n",
    "df.to_csv('./T5CateforyScore/category_score.csv', index=False)\n"
   ]
  },
  {
   "cell_type": "code",
   "execution_count": 1,
   "id": "10a26951-ffd0-44c9-81ec-f65dcc2429ee",
   "metadata": {},
   "outputs": [],
   "source": [
    "# FIX：3.25 归一化后0-100\n",
    "import pandas as pd\n",
    "\n",
    "# Create a DataFrame with the provided data\n",
    "data = {\n",
    "    'category': ['রাজনীতি', 'অর্থনীতি', 'আইন', 'বিজ্ঞান', 'শিক্ষা', 'লাইফস্টাইল', 'খেলাধুলা', 'বিনোদন', 'অন্যান্য'],\n",
    "    'category_CN': ['政治', '经济', '法律', '科学', '教育', '生活方式', '体育', '娱乐', '其他'],\n",
    "    'rank': [1, 2, 3, 4, 5, 6, 7, 8, 9],\n",
    "    'S_scale': [1.0, 0.875, 0.75, 0.625, 0.5, 0.375, 0.25, 0.125, 0.0],\n",
    "    'S_score': [100, 87.5, 75, 62.5, 50, 37.5, 25, 12.5, 0]\n",
    "}\n",
    "\n",
    "df = pd.DataFrame(data)\n",
    "\n",
    "# Save the DataFrame to a CSV file\n",
    "df.to_csv('./T5CateforyScore/category_score_FIX.csv', index=False)\n"
   ]
  },
  {
   "cell_type": "code",
   "execution_count": 3,
   "id": "060da933-9eef-4a0b-b294-fa764cbed00e",
   "metadata": {},
   "outputs": [],
   "source": [
    "# 提取新闻的category1进行类别评分\n",
    "import pandas as pd\n",
    "\n",
    "# Load the original CSV file with category data\n",
    "category_df = pd.read_csv('./T5CateforyScore/category_score.csv')\n",
    "\n",
    "# Load the CSV file with news data\n",
    "news_df = pd.read_csv('./Data231202-231211_FIX/Data231202_newDATA.csv')\n",
    "\n",
    "# Merge the two DataFrames based on the \"category1\" column\n",
    "merged_df = pd.merge(news_df, category_df, how='left', left_on='category1', right_on='category')\n",
    "\n",
    "# Sort the merged DataFrame based on the \"rank\" column\n",
    "sorted_df = merged_df.sort_values(by='rank')\n",
    "\n",
    "# Select the desired columns\n",
    "selected_columns = ['title', 'category1', 'rank', 'S_scale', 'S_score']\n",
    "result_df = sorted_df[selected_columns]\n",
    "\n",
    "# Save the result to a new CSV file\n",
    "result_df.to_csv('./T5CateforyScore/Data231202_categoryScore.csv', index=False)\n"
   ]
  },
  {
   "cell_type": "code",
   "execution_count": 4,
   "id": "99efcd70-1cb3-438a-b476-900a39b33f28",
   "metadata": {},
   "outputs": [
    {
     "name": "stdout",
     "output_type": "stream",
     "text": [
      "类别种数和数量:\n",
      "আর্কাইভ        16\n",
      "অন্যান্য       15\n",
      "আন্তর্জাতিক    13\n",
      "খেলাধুলা       11\n",
      "রাজনীতি        10\n",
      "জাতীয়           9\n",
      "শিক্ষা          7\n",
      "বিনোদন          5\n",
      "আইন             5\n",
      "লাইফস্টাইল      3\n",
      "অর্থনীতি        2\n",
      "Name: category1, dtype: int64\n"
     ]
    }
   ],
   "source": [
    "import pandas as pd\n",
    "\n",
    "# 读取 CSV 文件\n",
    "df = pd.read_csv('./Data231202-231211/Data231202.csv')\n",
    "\n",
    "# 统计类别种数和数量\n",
    "category_counts = df['category1'].value_counts()\n",
    "\n",
    "# 打印结果\n",
    "print(\"类别种数和数量:\")\n",
    "print(category_counts)\n"
   ]
  },
  {
   "cell_type": "code",
   "execution_count": null,
   "id": "c6a94af4-50aa-46d7-878c-112db45502d9",
   "metadata": {},
   "outputs": [],
   "source": []
  }
 ],
 "metadata": {
  "kernelspec": {
   "display_name": "conda-default",
   "language": "python",
   "name": "conda-default"
  },
  "language_info": {
   "codemirror_mode": {
    "name": "ipython",
    "version": 3
   },
   "file_extension": ".py",
   "mimetype": "text/x-python",
   "name": "python",
   "nbconvert_exporter": "python",
   "pygments_lexer": "ipython3",
   "version": "3.8.16"
  }
 },
 "nbformat": 4,
 "nbformat_minor": 5
}
